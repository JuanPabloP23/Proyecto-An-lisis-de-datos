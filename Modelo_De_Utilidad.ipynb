{
  "nbformat": 4,
  "nbformat_minor": 0,
  "metadata": {
    "colab": {
      "provenance": []
    },
    "kernelspec": {
      "name": "python3",
      "display_name": "Python 3"
    },
    "language_info": {
      "name": "python"
    }
  },
  "cells": [
    {
      "cell_type": "markdown",
      "source": [
        "Estimación de la utilidad mensual para Banco de Occidente.\n",
        "Los datos provienen de fuentes públicas por parte de superintendencia financiera."
      ],
      "metadata": {
        "id": "Rpe3KTRglLpf"
      }
    },
    {
      "cell_type": "markdown",
      "source": [
        "1. Cargamos los datos\n"
      ],
      "metadata": {
        "id": "-TYMh7e6bxJE"
      }
    },
    {
      "cell_type": "code",
      "source": [
        "pip install numpy==1.26"
      ],
      "metadata": {
        "colab": {
          "base_uri": "https://localhost:8080/"
        },
        "id": "6utuVBBwfAiM",
        "outputId": "9444bf54-ce1b-4aa4-a18d-8157f2910cb8"
      },
      "execution_count": 2,
      "outputs": [
        {
          "output_type": "stream",
          "name": "stdout",
          "text": [
            "Requirement already satisfied: numpy==1.26 in /usr/local/lib/python3.12/dist-packages (1.26.0)\n"
          ]
        }
      ]
    },
    {
      "cell_type": "code",
      "source": [
        "import pandas as pd\n",
        "import matplotlib.pyplot as plt\n",
        "import pmdarima as pm\n",
        "\n",
        "\n",
        "df = pd.read_excel('Utilidad BDO.xlsx', index_col = 'Fecha') # Con indice de fechas ya que es una serie de tiempo\n",
        "\n",
        "\n",
        "\n"
      ],
      "metadata": {
        "id": "Dk_whdv4lbJl"
      },
      "execution_count": 3,
      "outputs": []
    },
    {
      "cell_type": "markdown",
      "source": [
        "Verificamos la base\n"
      ],
      "metadata": {
        "id": "eW_jIjLwlnhD"
      }
    },
    {
      "cell_type": "code",
      "source": [
        "df.info()\n"
      ],
      "metadata": {
        "colab": {
          "base_uri": "https://localhost:8080/"
        },
        "id": "TUqm1r4Qlp9F",
        "outputId": "3a0697c6-8410-4fa0-c162-6f3fcc825e83"
      },
      "execution_count": 4,
      "outputs": [
        {
          "output_type": "stream",
          "name": "stdout",
          "text": [
            "<class 'pandas.core.frame.DataFrame'>\n",
            "DatetimeIndex: 78 entries, 2019-01-31 to 2025-06-30\n",
            "Data columns (total 11 columns):\n",
            " #   Column                    Non-Null Count  Dtype  \n",
            "---  ------                    --------------  -----  \n",
            " 0   BANCO DE OCCIDENTE S.A.   78 non-null     float64\n",
            " 1   DESEMPLEO_URBANO_         78 non-null     float64\n",
            " 2   TRM                       78 non-null     float64\n",
            " 3   USURA_CONSUMO_COMERCIAL   78 non-null     float64\n",
            " 4   TASA_INTERVENCION_BANREP  78 non-null     float64\n",
            " 5   IBR_3M                    78 non-null     float64\n",
            " 6   DTF_EA                    78 non-null     float64\n",
            " 7   INFLACION ANUAL           78 non-null     float64\n",
            " 8   INFLACION MES             78 non-null     float64\n",
            " 9   ISE                       78 non-null     float64\n",
            " 10  Provisones                78 non-null     int64  \n",
            "dtypes: float64(10), int64(1)\n",
            "memory usage: 7.3 KB\n"
          ]
        }
      ]
    },
    {
      "cell_type": "markdown",
      "source": [
        "Podemos observar que no hay nulos. Procedemos a renombrar la variable 'BANCO DE OCCIDENTE S.A.' a utilidad"
      ],
      "metadata": {
        "id": "t5xKPFZHls7F"
      }
    },
    {
      "cell_type": "code",
      "source": [
        "df.columns"
      ],
      "metadata": {
        "colab": {
          "base_uri": "https://localhost:8080/"
        },
        "id": "dQJnAQB3m97Z",
        "outputId": "cedf6b07-4c60-44b9-fc46-5928d837d7df"
      },
      "execution_count": 5,
      "outputs": [
        {
          "output_type": "execute_result",
          "data": {
            "text/plain": [
              "Index(['BANCO DE OCCIDENTE S.A.', 'DESEMPLEO_URBANO_', 'TRM',\n",
              "       'USURA_CONSUMO_COMERCIAL', 'TASA_INTERVENCION_BANREP', 'IBR_3M',\n",
              "       'DTF_EA', 'INFLACION ANUAL', 'INFLACION MES', 'ISE', 'Provisones'],\n",
              "      dtype='object')"
            ]
          },
          "metadata": {},
          "execution_count": 5
        }
      ]
    },
    {
      "cell_type": "code",
      "source": [
        "df = df.rename(columns={'BANCO DE OCCIDENTE S.A.': 'UTILIDAD'})"
      ],
      "metadata": {
        "id": "OXJvib_al1Dq"
      },
      "execution_count": 6,
      "outputs": []
    },
    {
      "cell_type": "markdown",
      "source": [
        "2. Empezamos con el análisis exploratorio debido a que los datos ya se encuentran limpios."
      ],
      "metadata": {
        "id": "t-jBwtQ3mR10"
      }
    },
    {
      "cell_type": "code",
      "source": [
        "df.describe()"
      ],
      "metadata": {
        "colab": {
          "base_uri": "https://localhost:8080/",
          "height": 316
        },
        "id": "W5j19N38m0LH",
        "outputId": "26549dea-05ba-406f-8220-7af3793cfc76"
      },
      "execution_count": 7,
      "outputs": [
        {
          "output_type": "execute_result",
          "data": {
            "text/plain": [
              "           UTILIDAD  DESEMPLEO_URBANO_          TRM  USURA_CONSUMO_COMERCIAL  \\\n",
              "count  7.800000e+01          78.000000    78.000000                78.000000   \n",
              "mean   3.843242e+10           0.128286  3924.854744                 0.310746   \n",
              "std    1.501743e+10           0.037498   413.671492                 0.060673   \n",
              "min    6.753246e+09           0.086550  3072.000000                 0.256200   \n",
              "25%    2.983164e+10           0.103531  3716.000000                 0.271500   \n",
              "50%    3.780270e+10           0.115692  3913.000000                 0.286200   \n",
              "75%    4.979885e+10           0.140803  4191.750000                 0.332475   \n",
              "max    7.805879e+10           0.248705  4819.000000                 0.470900   \n",
              "\n",
              "       TASA_INTERVENCION_BANREP     IBR_3M     DTF_EA  INFLACION ANUAL  \\\n",
              "count                 78.000000  78.000000  78.000000        78.000000   \n",
              "mean                   0.068205   0.066893   0.069319         0.062356   \n",
              "std                    0.042684   0.040134   0.040562         0.036385   \n",
              "min                    0.017500   0.016590   0.017400         0.014873   \n",
              "25%                    0.033750   0.030817   0.039019         0.035338   \n",
              "50%                    0.046250   0.061690   0.051758         0.050477   \n",
              "75%                    0.111875   0.109691   0.105066         0.091899   \n",
              "max                    0.132500   0.125610   0.143000         0.133408   \n",
              "\n",
              "       INFLACION MES         ISE  Provisones  \n",
              "count      78.000000   78.000000   78.000000  \n",
              "mean        0.005162  114.949408    0.089744  \n",
              "std         0.004294    8.387085    0.287664  \n",
              "min        -0.003702   86.895520    0.000000  \n",
              "25%         0.002530  109.890855    0.000000  \n",
              "50%         0.004449  118.468520    0.000000  \n",
              "75%         0.007036  121.027101    0.000000  \n",
              "max         0.017774  125.616814    1.000000  "
            ],
            "text/html": [
              "\n",
              "  <div id=\"df-63d3f354-e0f4-4f2f-8fe3-3a8f034cc3c4\" class=\"colab-df-container\">\n",
              "    <div>\n",
              "<style scoped>\n",
              "    .dataframe tbody tr th:only-of-type {\n",
              "        vertical-align: middle;\n",
              "    }\n",
              "\n",
              "    .dataframe tbody tr th {\n",
              "        vertical-align: top;\n",
              "    }\n",
              "\n",
              "    .dataframe thead th {\n",
              "        text-align: right;\n",
              "    }\n",
              "</style>\n",
              "<table border=\"1\" class=\"dataframe\">\n",
              "  <thead>\n",
              "    <tr style=\"text-align: right;\">\n",
              "      <th></th>\n",
              "      <th>UTILIDAD</th>\n",
              "      <th>DESEMPLEO_URBANO_</th>\n",
              "      <th>TRM</th>\n",
              "      <th>USURA_CONSUMO_COMERCIAL</th>\n",
              "      <th>TASA_INTERVENCION_BANREP</th>\n",
              "      <th>IBR_3M</th>\n",
              "      <th>DTF_EA</th>\n",
              "      <th>INFLACION ANUAL</th>\n",
              "      <th>INFLACION MES</th>\n",
              "      <th>ISE</th>\n",
              "      <th>Provisones</th>\n",
              "    </tr>\n",
              "  </thead>\n",
              "  <tbody>\n",
              "    <tr>\n",
              "      <th>count</th>\n",
              "      <td>7.800000e+01</td>\n",
              "      <td>78.000000</td>\n",
              "      <td>78.000000</td>\n",
              "      <td>78.000000</td>\n",
              "      <td>78.000000</td>\n",
              "      <td>78.000000</td>\n",
              "      <td>78.000000</td>\n",
              "      <td>78.000000</td>\n",
              "      <td>78.000000</td>\n",
              "      <td>78.000000</td>\n",
              "      <td>78.000000</td>\n",
              "    </tr>\n",
              "    <tr>\n",
              "      <th>mean</th>\n",
              "      <td>3.843242e+10</td>\n",
              "      <td>0.128286</td>\n",
              "      <td>3924.854744</td>\n",
              "      <td>0.310746</td>\n",
              "      <td>0.068205</td>\n",
              "      <td>0.066893</td>\n",
              "      <td>0.069319</td>\n",
              "      <td>0.062356</td>\n",
              "      <td>0.005162</td>\n",
              "      <td>114.949408</td>\n",
              "      <td>0.089744</td>\n",
              "    </tr>\n",
              "    <tr>\n",
              "      <th>std</th>\n",
              "      <td>1.501743e+10</td>\n",
              "      <td>0.037498</td>\n",
              "      <td>413.671492</td>\n",
              "      <td>0.060673</td>\n",
              "      <td>0.042684</td>\n",
              "      <td>0.040134</td>\n",
              "      <td>0.040562</td>\n",
              "      <td>0.036385</td>\n",
              "      <td>0.004294</td>\n",
              "      <td>8.387085</td>\n",
              "      <td>0.287664</td>\n",
              "    </tr>\n",
              "    <tr>\n",
              "      <th>min</th>\n",
              "      <td>6.753246e+09</td>\n",
              "      <td>0.086550</td>\n",
              "      <td>3072.000000</td>\n",
              "      <td>0.256200</td>\n",
              "      <td>0.017500</td>\n",
              "      <td>0.016590</td>\n",
              "      <td>0.017400</td>\n",
              "      <td>0.014873</td>\n",
              "      <td>-0.003702</td>\n",
              "      <td>86.895520</td>\n",
              "      <td>0.000000</td>\n",
              "    </tr>\n",
              "    <tr>\n",
              "      <th>25%</th>\n",
              "      <td>2.983164e+10</td>\n",
              "      <td>0.103531</td>\n",
              "      <td>3716.000000</td>\n",
              "      <td>0.271500</td>\n",
              "      <td>0.033750</td>\n",
              "      <td>0.030817</td>\n",
              "      <td>0.039019</td>\n",
              "      <td>0.035338</td>\n",
              "      <td>0.002530</td>\n",
              "      <td>109.890855</td>\n",
              "      <td>0.000000</td>\n",
              "    </tr>\n",
              "    <tr>\n",
              "      <th>50%</th>\n",
              "      <td>3.780270e+10</td>\n",
              "      <td>0.115692</td>\n",
              "      <td>3913.000000</td>\n",
              "      <td>0.286200</td>\n",
              "      <td>0.046250</td>\n",
              "      <td>0.061690</td>\n",
              "      <td>0.051758</td>\n",
              "      <td>0.050477</td>\n",
              "      <td>0.004449</td>\n",
              "      <td>118.468520</td>\n",
              "      <td>0.000000</td>\n",
              "    </tr>\n",
              "    <tr>\n",
              "      <th>75%</th>\n",
              "      <td>4.979885e+10</td>\n",
              "      <td>0.140803</td>\n",
              "      <td>4191.750000</td>\n",
              "      <td>0.332475</td>\n",
              "      <td>0.111875</td>\n",
              "      <td>0.109691</td>\n",
              "      <td>0.105066</td>\n",
              "      <td>0.091899</td>\n",
              "      <td>0.007036</td>\n",
              "      <td>121.027101</td>\n",
              "      <td>0.000000</td>\n",
              "    </tr>\n",
              "    <tr>\n",
              "      <th>max</th>\n",
              "      <td>7.805879e+10</td>\n",
              "      <td>0.248705</td>\n",
              "      <td>4819.000000</td>\n",
              "      <td>0.470900</td>\n",
              "      <td>0.132500</td>\n",
              "      <td>0.125610</td>\n",
              "      <td>0.143000</td>\n",
              "      <td>0.133408</td>\n",
              "      <td>0.017774</td>\n",
              "      <td>125.616814</td>\n",
              "      <td>1.000000</td>\n",
              "    </tr>\n",
              "  </tbody>\n",
              "</table>\n",
              "</div>\n",
              "    <div class=\"colab-df-buttons\">\n",
              "\n",
              "  <div class=\"colab-df-container\">\n",
              "    <button class=\"colab-df-convert\" onclick=\"convertToInteractive('df-63d3f354-e0f4-4f2f-8fe3-3a8f034cc3c4')\"\n",
              "            title=\"Convert this dataframe to an interactive table.\"\n",
              "            style=\"display:none;\">\n",
              "\n",
              "  <svg xmlns=\"http://www.w3.org/2000/svg\" height=\"24px\" viewBox=\"0 -960 960 960\">\n",
              "    <path d=\"M120-120v-720h720v720H120Zm60-500h600v-160H180v160Zm220 220h160v-160H400v160Zm0 220h160v-160H400v160ZM180-400h160v-160H180v160Zm440 0h160v-160H620v160ZM180-180h160v-160H180v160Zm440 0h160v-160H620v160Z\"/>\n",
              "  </svg>\n",
              "    </button>\n",
              "\n",
              "  <style>\n",
              "    .colab-df-container {\n",
              "      display:flex;\n",
              "      gap: 12px;\n",
              "    }\n",
              "\n",
              "    .colab-df-convert {\n",
              "      background-color: #E8F0FE;\n",
              "      border: none;\n",
              "      border-radius: 50%;\n",
              "      cursor: pointer;\n",
              "      display: none;\n",
              "      fill: #1967D2;\n",
              "      height: 32px;\n",
              "      padding: 0 0 0 0;\n",
              "      width: 32px;\n",
              "    }\n",
              "\n",
              "    .colab-df-convert:hover {\n",
              "      background-color: #E2EBFA;\n",
              "      box-shadow: 0px 1px 2px rgba(60, 64, 67, 0.3), 0px 1px 3px 1px rgba(60, 64, 67, 0.15);\n",
              "      fill: #174EA6;\n",
              "    }\n",
              "\n",
              "    .colab-df-buttons div {\n",
              "      margin-bottom: 4px;\n",
              "    }\n",
              "\n",
              "    [theme=dark] .colab-df-convert {\n",
              "      background-color: #3B4455;\n",
              "      fill: #D2E3FC;\n",
              "    }\n",
              "\n",
              "    [theme=dark] .colab-df-convert:hover {\n",
              "      background-color: #434B5C;\n",
              "      box-shadow: 0px 1px 3px 1px rgba(0, 0, 0, 0.15);\n",
              "      filter: drop-shadow(0px 1px 2px rgba(0, 0, 0, 0.3));\n",
              "      fill: #FFFFFF;\n",
              "    }\n",
              "  </style>\n",
              "\n",
              "    <script>\n",
              "      const buttonEl =\n",
              "        document.querySelector('#df-63d3f354-e0f4-4f2f-8fe3-3a8f034cc3c4 button.colab-df-convert');\n",
              "      buttonEl.style.display =\n",
              "        google.colab.kernel.accessAllowed ? 'block' : 'none';\n",
              "\n",
              "      async function convertToInteractive(key) {\n",
              "        const element = document.querySelector('#df-63d3f354-e0f4-4f2f-8fe3-3a8f034cc3c4');\n",
              "        const dataTable =\n",
              "          await google.colab.kernel.invokeFunction('convertToInteractive',\n",
              "                                                    [key], {});\n",
              "        if (!dataTable) return;\n",
              "\n",
              "        const docLinkHtml = 'Like what you see? Visit the ' +\n",
              "          '<a target=\"_blank\" href=https://colab.research.google.com/notebooks/data_table.ipynb>data table notebook</a>'\n",
              "          + ' to learn more about interactive tables.';\n",
              "        element.innerHTML = '';\n",
              "        dataTable['output_type'] = 'display_data';\n",
              "        await google.colab.output.renderOutput(dataTable, element);\n",
              "        const docLink = document.createElement('div');\n",
              "        docLink.innerHTML = docLinkHtml;\n",
              "        element.appendChild(docLink);\n",
              "      }\n",
              "    </script>\n",
              "  </div>\n",
              "\n",
              "\n",
              "    <div id=\"df-5a81db3f-3dcf-479e-9c81-a2a2044a1294\">\n",
              "      <button class=\"colab-df-quickchart\" onclick=\"quickchart('df-5a81db3f-3dcf-479e-9c81-a2a2044a1294')\"\n",
              "                title=\"Suggest charts\"\n",
              "                style=\"display:none;\">\n",
              "\n",
              "<svg xmlns=\"http://www.w3.org/2000/svg\" height=\"24px\"viewBox=\"0 0 24 24\"\n",
              "     width=\"24px\">\n",
              "    <g>\n",
              "        <path d=\"M19 3H5c-1.1 0-2 .9-2 2v14c0 1.1.9 2 2 2h14c1.1 0 2-.9 2-2V5c0-1.1-.9-2-2-2zM9 17H7v-7h2v7zm4 0h-2V7h2v10zm4 0h-2v-4h2v4z\"/>\n",
              "    </g>\n",
              "</svg>\n",
              "      </button>\n",
              "\n",
              "<style>\n",
              "  .colab-df-quickchart {\n",
              "      --bg-color: #E8F0FE;\n",
              "      --fill-color: #1967D2;\n",
              "      --hover-bg-color: #E2EBFA;\n",
              "      --hover-fill-color: #174EA6;\n",
              "      --disabled-fill-color: #AAA;\n",
              "      --disabled-bg-color: #DDD;\n",
              "  }\n",
              "\n",
              "  [theme=dark] .colab-df-quickchart {\n",
              "      --bg-color: #3B4455;\n",
              "      --fill-color: #D2E3FC;\n",
              "      --hover-bg-color: #434B5C;\n",
              "      --hover-fill-color: #FFFFFF;\n",
              "      --disabled-bg-color: #3B4455;\n",
              "      --disabled-fill-color: #666;\n",
              "  }\n",
              "\n",
              "  .colab-df-quickchart {\n",
              "    background-color: var(--bg-color);\n",
              "    border: none;\n",
              "    border-radius: 50%;\n",
              "    cursor: pointer;\n",
              "    display: none;\n",
              "    fill: var(--fill-color);\n",
              "    height: 32px;\n",
              "    padding: 0;\n",
              "    width: 32px;\n",
              "  }\n",
              "\n",
              "  .colab-df-quickchart:hover {\n",
              "    background-color: var(--hover-bg-color);\n",
              "    box-shadow: 0 1px 2px rgba(60, 64, 67, 0.3), 0 1px 3px 1px rgba(60, 64, 67, 0.15);\n",
              "    fill: var(--button-hover-fill-color);\n",
              "  }\n",
              "\n",
              "  .colab-df-quickchart-complete:disabled,\n",
              "  .colab-df-quickchart-complete:disabled:hover {\n",
              "    background-color: var(--disabled-bg-color);\n",
              "    fill: var(--disabled-fill-color);\n",
              "    box-shadow: none;\n",
              "  }\n",
              "\n",
              "  .colab-df-spinner {\n",
              "    border: 2px solid var(--fill-color);\n",
              "    border-color: transparent;\n",
              "    border-bottom-color: var(--fill-color);\n",
              "    animation:\n",
              "      spin 1s steps(1) infinite;\n",
              "  }\n",
              "\n",
              "  @keyframes spin {\n",
              "    0% {\n",
              "      border-color: transparent;\n",
              "      border-bottom-color: var(--fill-color);\n",
              "      border-left-color: var(--fill-color);\n",
              "    }\n",
              "    20% {\n",
              "      border-color: transparent;\n",
              "      border-left-color: var(--fill-color);\n",
              "      border-top-color: var(--fill-color);\n",
              "    }\n",
              "    30% {\n",
              "      border-color: transparent;\n",
              "      border-left-color: var(--fill-color);\n",
              "      border-top-color: var(--fill-color);\n",
              "      border-right-color: var(--fill-color);\n",
              "    }\n",
              "    40% {\n",
              "      border-color: transparent;\n",
              "      border-right-color: var(--fill-color);\n",
              "      border-top-color: var(--fill-color);\n",
              "    }\n",
              "    60% {\n",
              "      border-color: transparent;\n",
              "      border-right-color: var(--fill-color);\n",
              "    }\n",
              "    80% {\n",
              "      border-color: transparent;\n",
              "      border-right-color: var(--fill-color);\n",
              "      border-bottom-color: var(--fill-color);\n",
              "    }\n",
              "    90% {\n",
              "      border-color: transparent;\n",
              "      border-bottom-color: var(--fill-color);\n",
              "    }\n",
              "  }\n",
              "</style>\n",
              "\n",
              "      <script>\n",
              "        async function quickchart(key) {\n",
              "          const quickchartButtonEl =\n",
              "            document.querySelector('#' + key + ' button');\n",
              "          quickchartButtonEl.disabled = true;  // To prevent multiple clicks.\n",
              "          quickchartButtonEl.classList.add('colab-df-spinner');\n",
              "          try {\n",
              "            const charts = await google.colab.kernel.invokeFunction(\n",
              "                'suggestCharts', [key], {});\n",
              "          } catch (error) {\n",
              "            console.error('Error during call to suggestCharts:', error);\n",
              "          }\n",
              "          quickchartButtonEl.classList.remove('colab-df-spinner');\n",
              "          quickchartButtonEl.classList.add('colab-df-quickchart-complete');\n",
              "        }\n",
              "        (() => {\n",
              "          let quickchartButtonEl =\n",
              "            document.querySelector('#df-5a81db3f-3dcf-479e-9c81-a2a2044a1294 button');\n",
              "          quickchartButtonEl.style.display =\n",
              "            google.colab.kernel.accessAllowed ? 'block' : 'none';\n",
              "        })();\n",
              "      </script>\n",
              "    </div>\n",
              "\n",
              "    </div>\n",
              "  </div>\n"
            ],
            "application/vnd.google.colaboratory.intrinsic+json": {
              "type": "dataframe",
              "summary": "{\n  \"name\": \"df\",\n  \"rows\": 8,\n  \"fields\": [\n    {\n      \"column\": \"UTILIDAD\",\n      \"properties\": {\n        \"dtype\": \"number\",\n        \"std\": 25263623398.881607,\n        \"min\": 78.0,\n        \"max\": 78058787185.04895,\n        \"num_unique_values\": 8,\n        \"samples\": [\n          38432415641.08137,\n          37802698653.23456,\n          78.0\n        ],\n        \"semantic_type\": \"\",\n        \"description\": \"\"\n      }\n    },\n    {\n      \"column\": \"DESEMPLEO_URBANO_\",\n      \"properties\": {\n        \"dtype\": \"number\",\n        \"std\": 27.533739481775452,\n        \"min\": 0.03749827874290746,\n        \"max\": 78.0,\n        \"num_unique_values\": 8,\n        \"samples\": [\n          0.1282864283006586,\n          0.1156921835,\n          78.0\n        ],\n        \"semantic_type\": \"\",\n        \"description\": \"\"\n      }\n    },\n    {\n      \"column\": \"TRM\",\n      \"properties\": {\n        \"dtype\": \"number\",\n        \"std\": 1779.2822253351587,\n        \"min\": 78.0,\n        \"max\": 4819.0,\n        \"num_unique_values\": 8,\n        \"samples\": [\n          3924.8547435897435,\n          3913.0,\n          78.0\n        ],\n        \"semantic_type\": \"\",\n        \"description\": \"\"\n      }\n    },\n    {\n      \"column\": \"USURA_CONSUMO_COMERCIAL\",\n      \"properties\": {\n        \"dtype\": \"number\",\n        \"std\": 27.476951103234782,\n        \"min\": 0.06067284863290021,\n        \"max\": 78.0,\n        \"num_unique_values\": 8,\n        \"samples\": [\n          0.3107462775915431,\n          0.2862,\n          78.0\n        ],\n        \"semantic_type\": \"\",\n        \"description\": \"\"\n      }\n    },\n    {\n      \"column\": \"TASA_INTERVENCION_BANREP\",\n      \"properties\": {\n        \"dtype\": \"number\",\n        \"std\": 27.55432455372821,\n        \"min\": 0.0175,\n        \"max\": 78.0,\n        \"num_unique_values\": 8,\n        \"samples\": [\n          0.06820512820512822,\n          0.04625,\n          78.0\n        ],\n        \"semantic_type\": \"\",\n        \"description\": \"\"\n      }\n    },\n    {\n      \"column\": \"IBR_3M\",\n      \"properties\": {\n        \"dtype\": \"number\",\n        \"std\": 27.554389466563688,\n        \"min\": 0.01659,\n        \"max\": 78.0,\n        \"num_unique_values\": 8,\n        \"samples\": [\n          0.06689271349202146,\n          0.061689999999999995,\n          78.0\n        ],\n        \"semantic_type\": \"\",\n        \"description\": \"\"\n      }\n    },\n    {\n      \"column\": \"DTF_EA\",\n      \"properties\": {\n        \"dtype\": \"number\",\n        \"std\": 27.55365113634872,\n        \"min\": 0.0174,\n        \"max\": 78.0,\n        \"num_unique_values\": 8,\n        \"samples\": [\n          0.06931935262806509,\n          0.051758279500000004,\n          78.0\n        ],\n        \"semantic_type\": \"\",\n        \"description\": \"\"\n      }\n    },\n    {\n      \"column\": \"INFLACION ANUAL\",\n      \"properties\": {\n        \"dtype\": \"number\",\n        \"std\": 27.55573720469542,\n        \"min\": 0.014873479,\n        \"max\": 78.0,\n        \"num_unique_values\": 8,\n        \"samples\": [\n          0.06235571916578108,\n          0.05047652586770286,\n          78.0\n        ],\n        \"semantic_type\": \"\",\n        \"description\": \"\"\n      }\n    },\n    {\n      \"column\": \"INFLACION MES\",\n      \"properties\": {\n        \"dtype\": \"number\",\n        \"std\": 27.575268902188867,\n        \"min\": -0.003701595,\n        \"max\": 78.0,\n        \"num_unique_values\": 8,\n        \"samples\": [\n          0.005162331774401574,\n          0.0044490104999999995,\n          78.0\n        ],\n        \"semantic_type\": \"\",\n        \"description\": \"\"\n      }\n    },\n    {\n      \"column\": \"ISE\",\n      \"properties\": {\n        \"dtype\": \"number\",\n        \"std\": 38.988017386731975,\n        \"min\": 8.387084554922252,\n        \"max\": 125.61681449579606,\n        \"num_unique_values\": 8,\n        \"samples\": [\n          114.94940833570324,\n          118.46852023258342,\n          78.0\n        ],\n        \"semantic_type\": \"\",\n        \"description\": \"\"\n      }\n    },\n    {\n      \"column\": \"Provisones\",\n      \"properties\": {\n        \"dtype\": \"number\",\n        \"std\": 27.509723475356793,\n        \"min\": 0.0,\n        \"max\": 78.0,\n        \"num_unique_values\": 5,\n        \"samples\": [\n          0.08974358974358974,\n          1.0,\n          0.28766401017607807\n        ],\n        \"semantic_type\": \"\",\n        \"description\": \"\"\n      }\n    }\n  ]\n}"
            }
          },
          "metadata": {},
          "execution_count": 7
        }
      ]
    },
    {
      "cell_type": "code",
      "source": [
        "df.corr()"
      ],
      "metadata": {
        "colab": {
          "base_uri": "https://localhost:8080/",
          "height": 408
        },
        "id": "QpYPyM5-m2vh",
        "outputId": "e2906971-7c6c-400e-ef8a-d400b58f1766"
      },
      "execution_count": 8,
      "outputs": [
        {
          "output_type": "execute_result",
          "data": {
            "text/plain": [
              "                          UTILIDAD  DESEMPLEO_URBANO_       TRM  \\\n",
              "UTILIDAD                  1.000000          -0.194019  0.080879   \n",
              "DESEMPLEO_URBANO_        -0.194019           1.000000 -0.233365   \n",
              "TRM                       0.080879          -0.233365  1.000000   \n",
              "USURA_CONSUMO_COMERCIAL  -0.090235          -0.427145  0.550023   \n",
              "TASA_INTERVENCION_BANREP  0.063626          -0.600508  0.618820   \n",
              "IBR_3M                    0.092417          -0.637849  0.641070   \n",
              "DTF_EA                    0.016945          -0.564754  0.660200   \n",
              "INFLACION ANUAL           0.085948          -0.556273  0.729713   \n",
              "INFLACION MES             0.230053          -0.276598  0.403978   \n",
              "ISE                       0.312655          -0.759347  0.534340   \n",
              "Provisones               -0.269407           0.016461 -0.040706   \n",
              "\n",
              "                          USURA_CONSUMO_COMERCIAL  TASA_INTERVENCION_BANREP  \\\n",
              "UTILIDAD                                -0.090235                  0.063626   \n",
              "DESEMPLEO_URBANO_                       -0.427145                 -0.600508   \n",
              "TRM                                      0.550023                  0.618820   \n",
              "USURA_CONSUMO_COMERCIAL                  1.000000                  0.822659   \n",
              "TASA_INTERVENCION_BANREP                 0.822659                  1.000000   \n",
              "IBR_3M                                   0.809178                  0.990992   \n",
              "DTF_EA                                   0.865155                  0.985005   \n",
              "INFLACION ANUAL                          0.863653                  0.822009   \n",
              "INFLACION MES                            0.388029                  0.324342   \n",
              "ISE                                      0.378045                  0.676739   \n",
              "Provisones                               0.179682                  0.111126   \n",
              "\n",
              "                            IBR_3M    DTF_EA  INFLACION ANUAL  INFLACION MES  \\\n",
              "UTILIDAD                  0.092417  0.016945         0.085948       0.230053   \n",
              "DESEMPLEO_URBANO_        -0.637849 -0.564754        -0.556273      -0.276598   \n",
              "TRM                       0.641070  0.660200         0.729713       0.403978   \n",
              "USURA_CONSUMO_COMERCIAL   0.809178  0.865155         0.863653       0.388029   \n",
              "TASA_INTERVENCION_BANREP  0.990992  0.985005         0.822009       0.324342   \n",
              "IBR_3M                    1.000000  0.980485         0.861590       0.380844   \n",
              "DTF_EA                    0.980485  1.000000         0.867358       0.350727   \n",
              "INFLACION ANUAL           0.861590  0.867358         1.000000       0.581141   \n",
              "INFLACION MES             0.380844  0.350727         0.581141       1.000000   \n",
              "ISE                       0.725096  0.629816         0.612885       0.405671   \n",
              "Provisones                0.083333  0.108368         0.050595      -0.011309   \n",
              "\n",
              "                               ISE  Provisones  \n",
              "UTILIDAD                  0.312655   -0.269407  \n",
              "DESEMPLEO_URBANO_        -0.759347    0.016461  \n",
              "TRM                       0.534340   -0.040706  \n",
              "USURA_CONSUMO_COMERCIAL   0.378045    0.179682  \n",
              "TASA_INTERVENCION_BANREP  0.676739    0.111126  \n",
              "IBR_3M                    0.725096    0.083333  \n",
              "DTF_EA                    0.629816    0.108368  \n",
              "INFLACION ANUAL           0.612885    0.050595  \n",
              "INFLACION MES             0.405671   -0.011309  \n",
              "ISE                       1.000000    0.041592  \n",
              "Provisones                0.041592    1.000000  "
            ],
            "text/html": [
              "\n",
              "  <div id=\"df-ee81db1d-4c08-4e88-bce5-036dd40e8ef3\" class=\"colab-df-container\">\n",
              "    <div>\n",
              "<style scoped>\n",
              "    .dataframe tbody tr th:only-of-type {\n",
              "        vertical-align: middle;\n",
              "    }\n",
              "\n",
              "    .dataframe tbody tr th {\n",
              "        vertical-align: top;\n",
              "    }\n",
              "\n",
              "    .dataframe thead th {\n",
              "        text-align: right;\n",
              "    }\n",
              "</style>\n",
              "<table border=\"1\" class=\"dataframe\">\n",
              "  <thead>\n",
              "    <tr style=\"text-align: right;\">\n",
              "      <th></th>\n",
              "      <th>UTILIDAD</th>\n",
              "      <th>DESEMPLEO_URBANO_</th>\n",
              "      <th>TRM</th>\n",
              "      <th>USURA_CONSUMO_COMERCIAL</th>\n",
              "      <th>TASA_INTERVENCION_BANREP</th>\n",
              "      <th>IBR_3M</th>\n",
              "      <th>DTF_EA</th>\n",
              "      <th>INFLACION ANUAL</th>\n",
              "      <th>INFLACION MES</th>\n",
              "      <th>ISE</th>\n",
              "      <th>Provisones</th>\n",
              "    </tr>\n",
              "  </thead>\n",
              "  <tbody>\n",
              "    <tr>\n",
              "      <th>UTILIDAD</th>\n",
              "      <td>1.000000</td>\n",
              "      <td>-0.194019</td>\n",
              "      <td>0.080879</td>\n",
              "      <td>-0.090235</td>\n",
              "      <td>0.063626</td>\n",
              "      <td>0.092417</td>\n",
              "      <td>0.016945</td>\n",
              "      <td>0.085948</td>\n",
              "      <td>0.230053</td>\n",
              "      <td>0.312655</td>\n",
              "      <td>-0.269407</td>\n",
              "    </tr>\n",
              "    <tr>\n",
              "      <th>DESEMPLEO_URBANO_</th>\n",
              "      <td>-0.194019</td>\n",
              "      <td>1.000000</td>\n",
              "      <td>-0.233365</td>\n",
              "      <td>-0.427145</td>\n",
              "      <td>-0.600508</td>\n",
              "      <td>-0.637849</td>\n",
              "      <td>-0.564754</td>\n",
              "      <td>-0.556273</td>\n",
              "      <td>-0.276598</td>\n",
              "      <td>-0.759347</td>\n",
              "      <td>0.016461</td>\n",
              "    </tr>\n",
              "    <tr>\n",
              "      <th>TRM</th>\n",
              "      <td>0.080879</td>\n",
              "      <td>-0.233365</td>\n",
              "      <td>1.000000</td>\n",
              "      <td>0.550023</td>\n",
              "      <td>0.618820</td>\n",
              "      <td>0.641070</td>\n",
              "      <td>0.660200</td>\n",
              "      <td>0.729713</td>\n",
              "      <td>0.403978</td>\n",
              "      <td>0.534340</td>\n",
              "      <td>-0.040706</td>\n",
              "    </tr>\n",
              "    <tr>\n",
              "      <th>USURA_CONSUMO_COMERCIAL</th>\n",
              "      <td>-0.090235</td>\n",
              "      <td>-0.427145</td>\n",
              "      <td>0.550023</td>\n",
              "      <td>1.000000</td>\n",
              "      <td>0.822659</td>\n",
              "      <td>0.809178</td>\n",
              "      <td>0.865155</td>\n",
              "      <td>0.863653</td>\n",
              "      <td>0.388029</td>\n",
              "      <td>0.378045</td>\n",
              "      <td>0.179682</td>\n",
              "    </tr>\n",
              "    <tr>\n",
              "      <th>TASA_INTERVENCION_BANREP</th>\n",
              "      <td>0.063626</td>\n",
              "      <td>-0.600508</td>\n",
              "      <td>0.618820</td>\n",
              "      <td>0.822659</td>\n",
              "      <td>1.000000</td>\n",
              "      <td>0.990992</td>\n",
              "      <td>0.985005</td>\n",
              "      <td>0.822009</td>\n",
              "      <td>0.324342</td>\n",
              "      <td>0.676739</td>\n",
              "      <td>0.111126</td>\n",
              "    </tr>\n",
              "    <tr>\n",
              "      <th>IBR_3M</th>\n",
              "      <td>0.092417</td>\n",
              "      <td>-0.637849</td>\n",
              "      <td>0.641070</td>\n",
              "      <td>0.809178</td>\n",
              "      <td>0.990992</td>\n",
              "      <td>1.000000</td>\n",
              "      <td>0.980485</td>\n",
              "      <td>0.861590</td>\n",
              "      <td>0.380844</td>\n",
              "      <td>0.725096</td>\n",
              "      <td>0.083333</td>\n",
              "    </tr>\n",
              "    <tr>\n",
              "      <th>DTF_EA</th>\n",
              "      <td>0.016945</td>\n",
              "      <td>-0.564754</td>\n",
              "      <td>0.660200</td>\n",
              "      <td>0.865155</td>\n",
              "      <td>0.985005</td>\n",
              "      <td>0.980485</td>\n",
              "      <td>1.000000</td>\n",
              "      <td>0.867358</td>\n",
              "      <td>0.350727</td>\n",
              "      <td>0.629816</td>\n",
              "      <td>0.108368</td>\n",
              "    </tr>\n",
              "    <tr>\n",
              "      <th>INFLACION ANUAL</th>\n",
              "      <td>0.085948</td>\n",
              "      <td>-0.556273</td>\n",
              "      <td>0.729713</td>\n",
              "      <td>0.863653</td>\n",
              "      <td>0.822009</td>\n",
              "      <td>0.861590</td>\n",
              "      <td>0.867358</td>\n",
              "      <td>1.000000</td>\n",
              "      <td>0.581141</td>\n",
              "      <td>0.612885</td>\n",
              "      <td>0.050595</td>\n",
              "    </tr>\n",
              "    <tr>\n",
              "      <th>INFLACION MES</th>\n",
              "      <td>0.230053</td>\n",
              "      <td>-0.276598</td>\n",
              "      <td>0.403978</td>\n",
              "      <td>0.388029</td>\n",
              "      <td>0.324342</td>\n",
              "      <td>0.380844</td>\n",
              "      <td>0.350727</td>\n",
              "      <td>0.581141</td>\n",
              "      <td>1.000000</td>\n",
              "      <td>0.405671</td>\n",
              "      <td>-0.011309</td>\n",
              "    </tr>\n",
              "    <tr>\n",
              "      <th>ISE</th>\n",
              "      <td>0.312655</td>\n",
              "      <td>-0.759347</td>\n",
              "      <td>0.534340</td>\n",
              "      <td>0.378045</td>\n",
              "      <td>0.676739</td>\n",
              "      <td>0.725096</td>\n",
              "      <td>0.629816</td>\n",
              "      <td>0.612885</td>\n",
              "      <td>0.405671</td>\n",
              "      <td>1.000000</td>\n",
              "      <td>0.041592</td>\n",
              "    </tr>\n",
              "    <tr>\n",
              "      <th>Provisones</th>\n",
              "      <td>-0.269407</td>\n",
              "      <td>0.016461</td>\n",
              "      <td>-0.040706</td>\n",
              "      <td>0.179682</td>\n",
              "      <td>0.111126</td>\n",
              "      <td>0.083333</td>\n",
              "      <td>0.108368</td>\n",
              "      <td>0.050595</td>\n",
              "      <td>-0.011309</td>\n",
              "      <td>0.041592</td>\n",
              "      <td>1.000000</td>\n",
              "    </tr>\n",
              "  </tbody>\n",
              "</table>\n",
              "</div>\n",
              "    <div class=\"colab-df-buttons\">\n",
              "\n",
              "  <div class=\"colab-df-container\">\n",
              "    <button class=\"colab-df-convert\" onclick=\"convertToInteractive('df-ee81db1d-4c08-4e88-bce5-036dd40e8ef3')\"\n",
              "            title=\"Convert this dataframe to an interactive table.\"\n",
              "            style=\"display:none;\">\n",
              "\n",
              "  <svg xmlns=\"http://www.w3.org/2000/svg\" height=\"24px\" viewBox=\"0 -960 960 960\">\n",
              "    <path d=\"M120-120v-720h720v720H120Zm60-500h600v-160H180v160Zm220 220h160v-160H400v160Zm0 220h160v-160H400v160ZM180-400h160v-160H180v160Zm440 0h160v-160H620v160ZM180-180h160v-160H180v160Zm440 0h160v-160H620v160Z\"/>\n",
              "  </svg>\n",
              "    </button>\n",
              "\n",
              "  <style>\n",
              "    .colab-df-container {\n",
              "      display:flex;\n",
              "      gap: 12px;\n",
              "    }\n",
              "\n",
              "    .colab-df-convert {\n",
              "      background-color: #E8F0FE;\n",
              "      border: none;\n",
              "      border-radius: 50%;\n",
              "      cursor: pointer;\n",
              "      display: none;\n",
              "      fill: #1967D2;\n",
              "      height: 32px;\n",
              "      padding: 0 0 0 0;\n",
              "      width: 32px;\n",
              "    }\n",
              "\n",
              "    .colab-df-convert:hover {\n",
              "      background-color: #E2EBFA;\n",
              "      box-shadow: 0px 1px 2px rgba(60, 64, 67, 0.3), 0px 1px 3px 1px rgba(60, 64, 67, 0.15);\n",
              "      fill: #174EA6;\n",
              "    }\n",
              "\n",
              "    .colab-df-buttons div {\n",
              "      margin-bottom: 4px;\n",
              "    }\n",
              "\n",
              "    [theme=dark] .colab-df-convert {\n",
              "      background-color: #3B4455;\n",
              "      fill: #D2E3FC;\n",
              "    }\n",
              "\n",
              "    [theme=dark] .colab-df-convert:hover {\n",
              "      background-color: #434B5C;\n",
              "      box-shadow: 0px 1px 3px 1px rgba(0, 0, 0, 0.15);\n",
              "      filter: drop-shadow(0px 1px 2px rgba(0, 0, 0, 0.3));\n",
              "      fill: #FFFFFF;\n",
              "    }\n",
              "  </style>\n",
              "\n",
              "    <script>\n",
              "      const buttonEl =\n",
              "        document.querySelector('#df-ee81db1d-4c08-4e88-bce5-036dd40e8ef3 button.colab-df-convert');\n",
              "      buttonEl.style.display =\n",
              "        google.colab.kernel.accessAllowed ? 'block' : 'none';\n",
              "\n",
              "      async function convertToInteractive(key) {\n",
              "        const element = document.querySelector('#df-ee81db1d-4c08-4e88-bce5-036dd40e8ef3');\n",
              "        const dataTable =\n",
              "          await google.colab.kernel.invokeFunction('convertToInteractive',\n",
              "                                                    [key], {});\n",
              "        if (!dataTable) return;\n",
              "\n",
              "        const docLinkHtml = 'Like what you see? Visit the ' +\n",
              "          '<a target=\"_blank\" href=https://colab.research.google.com/notebooks/data_table.ipynb>data table notebook</a>'\n",
              "          + ' to learn more about interactive tables.';\n",
              "        element.innerHTML = '';\n",
              "        dataTable['output_type'] = 'display_data';\n",
              "        await google.colab.output.renderOutput(dataTable, element);\n",
              "        const docLink = document.createElement('div');\n",
              "        docLink.innerHTML = docLinkHtml;\n",
              "        element.appendChild(docLink);\n",
              "      }\n",
              "    </script>\n",
              "  </div>\n",
              "\n",
              "\n",
              "    <div id=\"df-a9005e92-afd1-4691-8cea-bb921969a36c\">\n",
              "      <button class=\"colab-df-quickchart\" onclick=\"quickchart('df-a9005e92-afd1-4691-8cea-bb921969a36c')\"\n",
              "                title=\"Suggest charts\"\n",
              "                style=\"display:none;\">\n",
              "\n",
              "<svg xmlns=\"http://www.w3.org/2000/svg\" height=\"24px\"viewBox=\"0 0 24 24\"\n",
              "     width=\"24px\">\n",
              "    <g>\n",
              "        <path d=\"M19 3H5c-1.1 0-2 .9-2 2v14c0 1.1.9 2 2 2h14c1.1 0 2-.9 2-2V5c0-1.1-.9-2-2-2zM9 17H7v-7h2v7zm4 0h-2V7h2v10zm4 0h-2v-4h2v4z\"/>\n",
              "    </g>\n",
              "</svg>\n",
              "      </button>\n",
              "\n",
              "<style>\n",
              "  .colab-df-quickchart {\n",
              "      --bg-color: #E8F0FE;\n",
              "      --fill-color: #1967D2;\n",
              "      --hover-bg-color: #E2EBFA;\n",
              "      --hover-fill-color: #174EA6;\n",
              "      --disabled-fill-color: #AAA;\n",
              "      --disabled-bg-color: #DDD;\n",
              "  }\n",
              "\n",
              "  [theme=dark] .colab-df-quickchart {\n",
              "      --bg-color: #3B4455;\n",
              "      --fill-color: #D2E3FC;\n",
              "      --hover-bg-color: #434B5C;\n",
              "      --hover-fill-color: #FFFFFF;\n",
              "      --disabled-bg-color: #3B4455;\n",
              "      --disabled-fill-color: #666;\n",
              "  }\n",
              "\n",
              "  .colab-df-quickchart {\n",
              "    background-color: var(--bg-color);\n",
              "    border: none;\n",
              "    border-radius: 50%;\n",
              "    cursor: pointer;\n",
              "    display: none;\n",
              "    fill: var(--fill-color);\n",
              "    height: 32px;\n",
              "    padding: 0;\n",
              "    width: 32px;\n",
              "  }\n",
              "\n",
              "  .colab-df-quickchart:hover {\n",
              "    background-color: var(--hover-bg-color);\n",
              "    box-shadow: 0 1px 2px rgba(60, 64, 67, 0.3), 0 1px 3px 1px rgba(60, 64, 67, 0.15);\n",
              "    fill: var(--button-hover-fill-color);\n",
              "  }\n",
              "\n",
              "  .colab-df-quickchart-complete:disabled,\n",
              "  .colab-df-quickchart-complete:disabled:hover {\n",
              "    background-color: var(--disabled-bg-color);\n",
              "    fill: var(--disabled-fill-color);\n",
              "    box-shadow: none;\n",
              "  }\n",
              "\n",
              "  .colab-df-spinner {\n",
              "    border: 2px solid var(--fill-color);\n",
              "    border-color: transparent;\n",
              "    border-bottom-color: var(--fill-color);\n",
              "    animation:\n",
              "      spin 1s steps(1) infinite;\n",
              "  }\n",
              "\n",
              "  @keyframes spin {\n",
              "    0% {\n",
              "      border-color: transparent;\n",
              "      border-bottom-color: var(--fill-color);\n",
              "      border-left-color: var(--fill-color);\n",
              "    }\n",
              "    20% {\n",
              "      border-color: transparent;\n",
              "      border-left-color: var(--fill-color);\n",
              "      border-top-color: var(--fill-color);\n",
              "    }\n",
              "    30% {\n",
              "      border-color: transparent;\n",
              "      border-left-color: var(--fill-color);\n",
              "      border-top-color: var(--fill-color);\n",
              "      border-right-color: var(--fill-color);\n",
              "    }\n",
              "    40% {\n",
              "      border-color: transparent;\n",
              "      border-right-color: var(--fill-color);\n",
              "      border-top-color: var(--fill-color);\n",
              "    }\n",
              "    60% {\n",
              "      border-color: transparent;\n",
              "      border-right-color: var(--fill-color);\n",
              "    }\n",
              "    80% {\n",
              "      border-color: transparent;\n",
              "      border-right-color: var(--fill-color);\n",
              "      border-bottom-color: var(--fill-color);\n",
              "    }\n",
              "    90% {\n",
              "      border-color: transparent;\n",
              "      border-bottom-color: var(--fill-color);\n",
              "    }\n",
              "  }\n",
              "</style>\n",
              "\n",
              "      <script>\n",
              "        async function quickchart(key) {\n",
              "          const quickchartButtonEl =\n",
              "            document.querySelector('#' + key + ' button');\n",
              "          quickchartButtonEl.disabled = true;  // To prevent multiple clicks.\n",
              "          quickchartButtonEl.classList.add('colab-df-spinner');\n",
              "          try {\n",
              "            const charts = await google.colab.kernel.invokeFunction(\n",
              "                'suggestCharts', [key], {});\n",
              "          } catch (error) {\n",
              "            console.error('Error during call to suggestCharts:', error);\n",
              "          }\n",
              "          quickchartButtonEl.classList.remove('colab-df-spinner');\n",
              "          quickchartButtonEl.classList.add('colab-df-quickchart-complete');\n",
              "        }\n",
              "        (() => {\n",
              "          let quickchartButtonEl =\n",
              "            document.querySelector('#df-a9005e92-afd1-4691-8cea-bb921969a36c button');\n",
              "          quickchartButtonEl.style.display =\n",
              "            google.colab.kernel.accessAllowed ? 'block' : 'none';\n",
              "        })();\n",
              "      </script>\n",
              "    </div>\n",
              "\n",
              "    </div>\n",
              "  </div>\n"
            ],
            "application/vnd.google.colaboratory.intrinsic+json": {
              "type": "dataframe",
              "summary": "{\n  \"name\": \"df\",\n  \"rows\": 11,\n  \"fields\": [\n    {\n      \"column\": \"UTILIDAD\",\n      \"properties\": {\n        \"dtype\": \"number\",\n        \"std\": 0.33694423755184866,\n        \"min\": -0.26940709768363125,\n        \"max\": 1.0,\n        \"num_unique_values\": 11,\n        \"samples\": [\n          0.0924167452644806,\n          1.0,\n          0.31265504700004276\n        ],\n        \"semantic_type\": \"\",\n        \"description\": \"\"\n      }\n    },\n    {\n      \"column\": \"DESEMPLEO_URBANO_\",\n      \"properties\": {\n        \"dtype\": \"number\",\n        \"std\": 0.4871700616171453,\n        \"min\": -0.7593467595746561,\n        \"max\": 1.0,\n        \"num_unique_values\": 11,\n        \"samples\": [\n          -0.6378485663588166,\n          -0.19401914339282547,\n          -0.7593467595746561\n        ],\n        \"semantic_type\": \"\",\n        \"description\": \"\"\n      }\n    },\n    {\n      \"column\": \"TRM\",\n      \"properties\": {\n        \"dtype\": \"number\",\n        \"std\": 0.36785788647965745,\n        \"min\": -0.23336471248499605,\n        \"max\": 1.0,\n        \"num_unique_values\": 11,\n        \"samples\": [\n          0.6410701617871384,\n          0.08087936128788718,\n          0.5343397345372176\n        ],\n        \"semantic_type\": \"\",\n        \"description\": \"\"\n      }\n    },\n    {\n      \"column\": \"USURA_CONSUMO_COMERCIAL\",\n      \"properties\": {\n        \"dtype\": \"number\",\n        \"std\": 0.45314667658778385,\n        \"min\": -0.42714548643559735,\n        \"max\": 1.0,\n        \"num_unique_values\": 11,\n        \"samples\": [\n          0.8091778799762431,\n          -0.09023477970639919,\n          0.3780451515434863\n        ],\n        \"semantic_type\": \"\",\n        \"description\": \"\"\n      }\n    },\n    {\n      \"column\": \"TASA_INTERVENCION_BANREP\",\n      \"properties\": {\n        \"dtype\": \"number\",\n        \"std\": 0.505377779920877,\n        \"min\": -0.6005083594989696,\n        \"max\": 1.0,\n        \"num_unique_values\": 11,\n        \"samples\": [\n          0.9909922823912212,\n          0.06362569702784193,\n          0.6767394112879398\n        ],\n        \"semantic_type\": \"\",\n        \"description\": \"\"\n      }\n    },\n    {\n      \"column\": \"IBR_3M\",\n      \"properties\": {\n        \"dtype\": \"number\",\n        \"std\": 0.5148681381644892,\n        \"min\": -0.6378485663588166,\n        \"max\": 1.0,\n        \"num_unique_values\": 11,\n        \"samples\": [\n          1.0,\n          0.0924167452644806,\n          0.7250963012951507\n        ],\n        \"semantic_type\": \"\",\n        \"description\": \"\"\n      }\n    },\n    {\n      \"column\": \"DTF_EA\",\n      \"properties\": {\n        \"dtype\": \"number\",\n        \"std\": 0.5054808345907201,\n        \"min\": -0.5647542177413822,\n        \"max\": 1.0,\n        \"num_unique_values\": 11,\n        \"samples\": [\n          0.9804845397120567,\n          0.016944995626459042,\n          0.6298162436848411\n        ],\n        \"semantic_type\": \"\",\n        \"description\": \"\"\n      }\n    },\n    {\n      \"column\": \"INFLACION ANUAL\",\n      \"properties\": {\n        \"dtype\": \"number\",\n        \"std\": 0.47926108094814973,\n        \"min\": -0.5562726247266336,\n        \"max\": 1.0,\n        \"num_unique_values\": 11,\n        \"samples\": [\n          0.8615901653745901,\n          0.08594844950751646,\n          0.612885025887644\n        ],\n        \"semantic_type\": \"\",\n        \"description\": \"\"\n      }\n    },\n    {\n      \"column\": \"INFLACION MES\",\n      \"properties\": {\n        \"dtype\": \"number\",\n        \"std\": 0.31969770316089485,\n        \"min\": -0.2765982979136123,\n        \"max\": 1.0,\n        \"num_unique_values\": 11,\n        \"samples\": [\n          0.3808438568213679,\n          0.23005284042190854,\n          0.40567115677320725\n        ],\n        \"semantic_type\": \"\",\n        \"description\": \"\"\n      }\n    },\n    {\n      \"column\": \"ISE\",\n      \"properties\": {\n        \"dtype\": \"number\",\n        \"std\": 0.4622645096279682,\n        \"min\": -0.7593467595746561,\n        \"max\": 1.0,\n        \"num_unique_values\": 11,\n        \"samples\": [\n          0.7250963012951507,\n          0.31265504700004276,\n          1.0\n        ],\n        \"semantic_type\": \"\",\n        \"description\": \"\"\n      }\n    },\n    {\n      \"column\": \"Provisones\",\n      \"properties\": {\n        \"dtype\": \"number\",\n        \"std\": 0.31554434571331874,\n        \"min\": -0.26940709768363125,\n        \"max\": 1.0,\n        \"num_unique_values\": 11,\n        \"samples\": [\n          0.08333289149340252,\n          -0.26940709768363125,\n          0.041591788203317125\n        ],\n        \"semantic_type\": \"\",\n        \"description\": \"\"\n      }\n    }\n  ]\n}"
            }
          },
          "metadata": {},
          "execution_count": 8
        }
      ]
    },
    {
      "cell_type": "markdown",
      "source": [
        "Graficamos mimso eje para ver si encontramos relaciones que nos pueden dar pistas de como modelar la variable"
      ],
      "metadata": {
        "id": "LQJh8bvmoSLJ"
      }
    },
    {
      "cell_type": "code",
      "source": [
        "df['UTILIDAD'].plot()\n",
        "plt.show()\n",
        "\n",
        "\n",
        "df['TRM'].plot()\n",
        "plt.show()\n",
        "\n",
        "df['TASA_INTERVENCION_BANREP'].plot()\n",
        "plt.show()\n",
        "\n",
        "df['ISE'].plot()\n",
        "plt.show()\n",
        "\n"
      ],
      "metadata": {
        "colab": {
          "base_uri": "https://localhost:8080/",
          "height": 1000
        },
        "id": "JtK1-4m2mRE8",
        "outputId": "6749754a-1158-4481-f55b-04f5fe86852d"
      },
      "execution_count": 9,
      "outputs": [
        {
          "output_type": "display_data",
          "data": {
            "text/plain": [
              "<Figure size 640x480 with 1 Axes>"
            ],
            "image/png": "[encoded data removed]"
          },
          "metadata": {}
        },
        {
          "output_type": "display_data",
          "data": {
            "text/plain": [
              "<Figure size 640x480 with 1 Axes>"
            ],
            "image/png": "[encoded data removed]"
          },
          "metadata": {}
        },
        {
          "output_type": "display_data",
          "data": {
            "text/plain": [
              "<Figure size 640x480 with 1 Axes>"
            ],
            "image/png": "[encoded data removed]"
          },
          "metadata": {}
        },
        {
          "output_type": "display_data",
          "data": {
            "text/plain": [
              "<Figure size 640x480 with 1 Axes>"
            ],
            "image/png": "[encoded data removed]"
          },
          "metadata": {}
        }
      ]
    },
    {
      "cell_type": "markdown",
      "source": [
        "Empezamos experimentando con los datos, ya que el analisis exploratorio no es suficientmente conclusivo"
      ],
      "metadata": {
        "id": "BIbbRMCwpqG7"
      }
    },
    {
      "cell_type": "code",
      "source": [
        "from sklearn.model_selection import train_test_split\n",
        "objetivo = 'UTILIDAD'\n",
        "exog = ['TASA_INTERVENCION_BANREP', 'ISE', 'TRM']\n",
        "\n",
        "\n",
        "x_train, x_test, y_train, y_test = train_test_split(df[exog], df[objetivo], shuffle = False, test_size= 0.33)\n",
        "\n",
        "\n",
        "\n"
      ],
      "metadata": {
        "id": "-1NeS27TpO_v"
      },
      "execution_count": 10,
      "outputs": []
    },
    {
      "cell_type": "markdown",
      "source": [
        "Importamos una regresión lineal como primer paso y tener un baseline para comparar modelos mas complejos"
      ],
      "metadata": {
        "id": "5te7nJm2qbJX"
      }
    },
    {
      "cell_type": "code",
      "source": [
        "from sklearn.linear_model import LinearRegression\n",
        "\n",
        "modelo_reg = LinearRegression()\n",
        "\n",
        "modelo_reg.fit(x_train,y_train)\n",
        "\n",
        "print(modelo_reg.coef_) # Inspeccionamos los coeficientes del modelo\n",
        "\n",
        "\n"
      ],
      "metadata": {
        "colab": {
          "base_uri": "https://localhost:8080/"
        },
        "id": "OE3TpT0NqYZu",
        "outputId": "54147315-c191-464a-ae9f-55c5f6449d92"
      },
      "execution_count": 11,
      "outputs": [
        {
          "output_type": "stream",
          "name": "stdout",
          "text": [
            "[-2.60936591e+10  8.61683083e+08 -2.00209673e+06]\n"
          ]
        }
      ]
    },
    {
      "cell_type": "code",
      "source": [
        "pred_modelo = pd.Series(modelo_reg.predict(x_test), index = x_test.index)\n",
        "pred_modelo.tail()"
      ],
      "metadata": {
        "colab": {
          "base_uri": "https://localhost:8080/",
          "height": 288
        },
        "id": "g5V06rX9q6gW",
        "outputId": "b67ccd4c-d3cf-475b-a538-54824ea008c9"
      },
      "execution_count": 12,
      "outputs": [
        {
          "output_type": "execute_result",
          "data": {
            "text/plain": [
              "Fecha\n",
              "2025-02-28    4.782619e+10\n",
              "2025-03-31    4.714838e+10\n",
              "2025-04-30    4.882491e+10\n",
              "2025-05-31    4.866252e+10\n",
              "2025-06-30    4.753540e+10\n",
              "dtype: float64"
            ],
            "text/html": [
              "<div>\n",
              "<style scoped>\n",
              "    .dataframe tbody tr th:only-of-type {\n",
              "        vertical-align: middle;\n",
              "    }\n",
              "\n",
              "    .dataframe tbody tr th {\n",
              "        vertical-align: top;\n",
              "    }\n",
              "\n",
              "    .dataframe thead th {\n",
              "        text-align: right;\n",
              "    }\n",
              "</style>\n",
              "<table border=\"1\" class=\"dataframe\">\n",
              "  <thead>\n",
              "    <tr style=\"text-align: right;\">\n",
              "      <th></th>\n",
              "      <th>0</th>\n",
              "    </tr>\n",
              "    <tr>\n",
              "      <th>Fecha</th>\n",
              "      <th></th>\n",
              "    </tr>\n",
              "  </thead>\n",
              "  <tbody>\n",
              "    <tr>\n",
              "      <th>2025-02-28</th>\n",
              "      <td>4.782619e+10</td>\n",
              "    </tr>\n",
              "    <tr>\n",
              "      <th>2025-03-31</th>\n",
              "      <td>4.714838e+10</td>\n",
              "    </tr>\n",
              "    <tr>\n",
              "      <th>2025-04-30</th>\n",
              "      <td>4.882491e+10</td>\n",
              "    </tr>\n",
              "    <tr>\n",
              "      <th>2025-05-31</th>\n",
              "      <td>4.866252e+10</td>\n",
              "    </tr>\n",
              "    <tr>\n",
              "      <th>2025-06-30</th>\n",
              "      <td>4.753540e+10</td>\n",
              "    </tr>\n",
              "  </tbody>\n",
              "</table>\n",
              "</div><br><label><b>dtype:</b> float64</label>"
            ]
          },
          "metadata": {},
          "execution_count": 12
        }
      ]
    },
    {
      "cell_type": "markdown",
      "source": [
        "El modelo de regresión para predecir un promedio de la utilidad, y levenmente parece capturar una tendencia."
      ],
      "metadata": {
        "id": "C7e7F0YMrWjl"
      }
    },
    {
      "cell_type": "code",
      "source": [
        "df['UTILIDAD'].plot()\n",
        "pred_modelo.plot()\n",
        "plt.show()"
      ],
      "metadata": {
        "colab": {
          "base_uri": "https://localhost:8080/",
          "height": 485
        },
        "id": "mzEae6HYrJrl",
        "outputId": "21c93cfa-cda8-4ac8-b7e6-cd29f39ed78a"
      },
      "execution_count": 13,
      "outputs": [
        {
          "output_type": "display_data",
          "data": {
            "text/plain": [
              "<Figure size 640x480 with 1 Axes>"
            ],
            "image/png": "[encoded data removed]"
          },
          "metadata": {}
        }
      ]
    },
    {
      "cell_type": "markdown",
      "source": [
        "Procedemos calcular algunas metricas para tener punto de comparación en el futuro"
      ],
      "metadata": {
        "id": "9fziNj4irhhF"
      }
    },
    {
      "cell_type": "code",
      "source": [
        "from sklearn.metrics import root_mean_squared_error, mean_absolute_percentage_error, r2_score\n",
        "\n",
        "rmse = root_mean_squared_error(y_test, pred_modelo)\n",
        "mape = mean_absolute_percentage_error(y_test, pred_modelo)\n",
        "r2 = r2_score(y_test, pred_modelo)\n",
        "\n",
        "print(f'rmse del modelo: {rmse}')\n",
        "print(f'mape del modelo: {mape}')\n",
        "print(f'R^2 del modelo : {r2}')\n",
        "\n"
      ],
      "metadata": {
        "colab": {
          "base_uri": "https://localhost:8080/"
        },
        "id": "yPHbuXizrhSc",
        "outputId": "81fb418c-2bc0-42ef-8a80-d43cedb36a7f"
      },
      "execution_count": 14,
      "outputs": [
        {
          "output_type": "stream",
          "name": "stdout",
          "text": [
            "rmse del modelo: 17554849600.37929\n",
            "mape del modelo: 0.7032480627128967\n",
            "R^2 del modelo : -0.02452345446004789\n"
          ]
        }
      ]
    },
    {
      "cell_type": "markdown",
      "source": [
        "Debido a que el resultado del modelo no es satisfactorio empezamos utilizando técnicas de ingenieria de características. El primer paso será aplicar la transformación logrítmica a la variable objetivo para ver si esto permite mejorar los resultados"
      ],
      "metadata": {
        "id": "Wzv-79GwszOL"
      }
    },
    {
      "cell_type": "code",
      "source": [
        "df.columns"
      ],
      "metadata": {
        "colab": {
          "base_uri": "https://localhost:8080/"
        },
        "id": "9QKdg78Vt13D",
        "outputId": "459226f2-e0cd-4e16-a96a-0168560efaea"
      },
      "execution_count": 15,
      "outputs": [
        {
          "output_type": "execute_result",
          "data": {
            "text/plain": [
              "Index(['UTILIDAD', 'DESEMPLEO_URBANO_', 'TRM', 'USURA_CONSUMO_COMERCIAL',\n",
              "       'TASA_INTERVENCION_BANREP', 'IBR_3M', 'DTF_EA', 'INFLACION ANUAL',\n",
              "       'INFLACION MES', 'ISE', 'Provisones'],\n",
              "      dtype='object')"
            ]
          },
          "metadata": {},
          "execution_count": 15
        }
      ]
    },
    {
      "cell_type": "markdown",
      "source": [],
      "metadata": {
        "id": "bmByKdj3t1tG"
      }
    },
    {
      "cell_type": "code",
      "source": [
        "import numpy as np\n",
        "df['log_UTILIDAD'] = np.log(df['UTILIDAD'])"
      ],
      "metadata": {
        "id": "3-JNiBYktELl"
      },
      "execution_count": 16,
      "outputs": []
    },
    {
      "cell_type": "code",
      "source": [
        "objetivo = 'log_UTILIDAD'\n",
        "exog = ['TASA_INTERVENCION_BANREP', 'ISE', 'Provisones']\n",
        "\n",
        "x_train, x_test, y_train, y_test = train_test_split(df[exog], df[objetivo], shuffle = False, test_size= 0.33)\n",
        "\n",
        "modelo_reg = LinearRegression()\n",
        "\n",
        "modelo_reg.fit(x_train,y_train)\n",
        "\n",
        "print(modelo_reg.coef_) # Inspeccionamos los coeficientes del modelo\n",
        "\n",
        "pred_modelo = pd.Series(modelo_reg.predict(x_test), index = x_test.index)\n",
        "\n",
        "df['UTILIDAD'].plot()\n",
        "np.exp(pred_modelo).plot()\n",
        "plt.show()"
      ],
      "metadata": {
        "colab": {
          "base_uri": "https://localhost:8080/",
          "height": 502
        },
        "id": "TuNcDxijtV-J",
        "outputId": "d9e95e1f-7034-4125-d4c6-df39d6f7ec89"
      },
      "execution_count": 87,
      "outputs": [
        {
          "output_type": "stream",
          "name": "stdout",
          "text": [
            "[-1.39287113  0.02453835 -0.27557168]\n"
          ]
        },
        {
          "output_type": "display_data",
          "data": {
            "text/plain": [
              "<Figure size 640x480 with 1 Axes>"
            ],
            "image/png": "[encoded data removed]"
          },
          "metadata": {}
        }
      ]
    },
    {
      "cell_type": "code",
      "source": [
        "from sklearn.metrics import root_mean_squared_error, mean_absolute_percentage_error, r2_score\n",
        "\n",
        "rmse = root_mean_squared_error(y_test, pred_modelo)\n",
        "mape = mean_absolute_percentage_error(y_test, pred_modelo)\n",
        "r2 = r2_score(y_test, pred_modelo)\n",
        "\n",
        "print(f'rmse del modelo: {rmse}')\n",
        "print(f'mape del modelo: {mape}')\n",
        "print(f'R^2 del modelo : {r2}')"
      ],
      "metadata": {
        "colab": {
          "base_uri": "https://localhost:8080/"
        },
        "id": "jMgdsNbNtqXu",
        "outputId": "5ea5358a-b5e1-407c-d146-ce65405e5076"
      },
      "execution_count": 18,
      "outputs": [
        {
          "output_type": "stream",
          "name": "stdout",
          "text": [
            "rmse del modelo: 0.5399577571469718\n",
            "mape del modelo: 0.01648948144031082\n",
            "R^2 del modelo : 0.13958962580926126\n"
          ]
        }
      ]
    },
    {
      "cell_type": "code",
      "source": [
        "df"
      ],
      "metadata": {
        "colab": {
          "base_uri": "https://localhost:8080/",
          "height": 468
        },
        "id": "1GWs2US-dWoL",
        "outputId": "ecbc1716-3085-4bf1-dd65-58cadb6c443b"
      },
      "execution_count": 19,
      "outputs": [
        {
          "output_type": "execute_result",
          "data": {
            "text/plain": [
              "                UTILIDAD  DESEMPLEO_URBANO_     TRM  USURA_CONSUMO_COMERCIAL  \\\n",
              "Fecha                                                                          \n",
              "2019-01-31  4.356486e+10           0.137393  3163.0                 0.287400   \n",
              "2019-02-28  3.675234e+10           0.124274  3072.0                 0.295500   \n",
              "2019-03-31  5.245682e+10           0.119751  3175.0                 0.290600   \n",
              "2019-04-30  4.937206e+10           0.111443  3248.0                 0.289800   \n",
              "2019-05-31  3.358929e+10           0.112390  3358.0                 0.290100   \n",
              "...                  ...                ...     ...                      ...   \n",
              "2025-02-28  4.657417e+10           0.132258  4200.0                 0.273075   \n",
              "2025-03-31  5.276859e+10           0.125758  4200.0                 0.267887   \n",
              "2025-04-30  5.610283e+10           0.126564  4200.0                 0.264651   \n",
              "2025-05-31  4.179832e+10           0.123923  4200.0                 0.261854   \n",
              "2025-06-30  5.588806e+10           0.125659  4192.0                 0.259050   \n",
              "\n",
              "            TASA_INTERVENCION_BANREP    IBR_3M    DTF_EA  INFLACION ANUAL  \\\n",
              "Fecha                                                                       \n",
              "2019-01-31                    0.0425  0.041320  0.046200         0.031477   \n",
              "2019-02-28                    0.0425  0.041400  0.045700         0.030136   \n",
              "2019-03-31                    0.0425  0.041360  0.045100         0.032199   \n",
              "2019-04-30                    0.0425  0.041350  0.045400         0.032454   \n",
              "2019-05-31                    0.0425  0.041260  0.044700         0.033078   \n",
              "...                              ...       ...       ...              ...   \n",
              "2025-02-28                    0.0800  0.072711  0.075631         0.048467   \n",
              "2025-03-31                    0.0725  0.070528  0.071127         0.047054   \n",
              "2025-04-30                    0.0675  0.067683  0.067971         0.044535   \n",
              "2025-05-31                    0.0675  0.064023  0.066256         0.042840   \n",
              "2025-06-30                    0.0650  0.063013  0.064730         0.041434   \n",
              "\n",
              "            INFLACION MES         ISE  Provisones  log_UTILIDAD  \n",
              "Fecha                                                            \n",
              "2019-01-31       0.006000  107.893100           0     24.497517  \n",
              "2019-02-28       0.005765  108.865086           0     24.327468  \n",
              "2019-03-31       0.004349  107.520459           0     24.683256  \n",
              "2019-04-30       0.004920  108.992354           0     24.622650  \n",
              "2019-05-31       0.003134  110.031760           0     24.237473  \n",
              "...                   ...         ...         ...           ...  \n",
              "2025-02-28       0.007005  124.836302           0     24.564312  \n",
              "2025-03-31       0.005690  123.822584           0     24.689182  \n",
              "2025-04-30       0.003517  125.616814           0     24.750452  \n",
              "2025-05-31       0.002586  125.428359           0     24.456122  \n",
              "2025-06-30       0.001866  124.026019           0     24.746617  \n",
              "\n",
              "[78 rows x 12 columns]"
            ],
            "text/html": [
              "\n",
              "  <div id=\"df-c515efd7-9055-44b4-9d11-b88acef20f25\" class=\"colab-df-container\">\n",
              "    <div>\n",
              "<style scoped>\n",
              "    .dataframe tbody tr th:only-of-type {\n",
              "        vertical-align: middle;\n",
              "    }\n",
              "\n",
              "    .dataframe tbody tr th {\n",
              "        vertical-align: top;\n",
              "    }\n",
              "\n",
              "    .dataframe thead th {\n",
              "        text-align: right;\n",
              "    }\n",
              "</style>\n",
              "<table border=\"1\" class=\"dataframe\">\n",
              "  <thead>\n",
              "    <tr style=\"text-align: right;\">\n",
              "      <th></th>\n",
              "      <th>UTILIDAD</th>\n",
              "      <th>DESEMPLEO_URBANO_</th>\n",
              "      <th>TRM</th>\n",
              "      <th>USURA_CONSUMO_COMERCIAL</th>\n",
              "      <th>TASA_INTERVENCION_BANREP</th>\n",
              "      <th>IBR_3M</th>\n",
              "      <th>DTF_EA</th>\n",
              "      <th>INFLACION ANUAL</th>\n",
              "      <th>INFLACION MES</th>\n",
              "      <th>ISE</th>\n",
              "      <th>Provisones</th>\n",
              "      <th>log_UTILIDAD</th>\n",
              "    </tr>\n",
              "    <tr>\n",
              "      <th>Fecha</th>\n",
              "      <th></th>\n",
              "      <th></th>\n",
              "      <th></th>\n",
              "      <th></th>\n",
              "      <th></th>\n",
              "      <th></th>\n",
              "      <th></th>\n",
              "      <th></th>\n",
              "      <th></th>\n",
              "      <th></th>\n",
              "      <th></th>\n",
              "      <th></th>\n",
              "    </tr>\n",
              "  </thead>\n",
              "  <tbody>\n",
              "    <tr>\n",
              "      <th>2019-01-31</th>\n",
              "      <td>4.356486e+10</td>\n",
              "      <td>0.137393</td>\n",
              "      <td>3163.0</td>\n",
              "      <td>0.287400</td>\n",
              "      <td>0.0425</td>\n",
              "      <td>0.041320</td>\n",
              "      <td>0.046200</td>\n",
              "      <td>0.031477</td>\n",
              "      <td>0.006000</td>\n",
              "      <td>107.893100</td>\n",
              "      <td>0</td>\n",
              "      <td>24.497517</td>\n",
              "    </tr>\n",
              "    <tr>\n",
              "      <th>2019-02-28</th>\n",
              "      <td>3.675234e+10</td>\n",
              "      <td>0.124274</td>\n",
              "      <td>3072.0</td>\n",
              "      <td>0.295500</td>\n",
              "      <td>0.0425</td>\n",
              "      <td>0.041400</td>\n",
              "      <td>0.045700</td>\n",
              "      <td>0.030136</td>\n",
              "      <td>0.005765</td>\n",
              "      <td>108.865086</td>\n",
              "      <td>0</td>\n",
              "      <td>24.327468</td>\n",
              "    </tr>\n",
              "    <tr>\n",
              "      <th>2019-03-31</th>\n",
              "      <td>5.245682e+10</td>\n",
              "      <td>0.119751</td>\n",
              "      <td>3175.0</td>\n",
              "      <td>0.290600</td>\n",
              "      <td>0.0425</td>\n",
              "      <td>0.041360</td>\n",
              "      <td>0.045100</td>\n",
              "      <td>0.032199</td>\n",
              "      <td>0.004349</td>\n",
              "      <td>107.520459</td>\n",
              "      <td>0</td>\n",
              "      <td>24.683256</td>\n",
              "    </tr>\n",
              "    <tr>\n",
              "      <th>2019-04-30</th>\n",
              "      <td>4.937206e+10</td>\n",
              "      <td>0.111443</td>\n",
              "      <td>3248.0</td>\n",
              "      <td>0.289800</td>\n",
              "      <td>0.0425</td>\n",
              "      <td>0.041350</td>\n",
              "      <td>0.045400</td>\n",
              "      <td>0.032454</td>\n",
              "      <td>0.004920</td>\n",
              "      <td>108.992354</td>\n",
              "      <td>0</td>\n",
              "      <td>24.622650</td>\n",
              "    </tr>\n",
              "    <tr>\n",
              "      <th>2019-05-31</th>\n",
              "      <td>3.358929e+10</td>\n",
              "      <td>0.112390</td>\n",
              "      <td>3358.0</td>\n",
              "      <td>0.290100</td>\n",
              "      <td>0.0425</td>\n",
              "      <td>0.041260</td>\n",
              "      <td>0.044700</td>\n",
              "      <td>0.033078</td>\n",
              "      <td>0.003134</td>\n",
              "      <td>110.031760</td>\n",
              "      <td>0</td>\n",
              "      <td>24.237473</td>\n",
              "    </tr>\n",
              "    <tr>\n",
              "      <th>...</th>\n",
              "      <td>...</td>\n",
              "      <td>...</td>\n",
              "      <td>...</td>\n",
              "      <td>...</td>\n",
              "      <td>...</td>\n",
              "      <td>...</td>\n",
              "      <td>...</td>\n",
              "      <td>...</td>\n",
              "      <td>...</td>\n",
              "      <td>...</td>\n",
              "      <td>...</td>\n",
              "      <td>...</td>\n",
              "    </tr>\n",
              "    <tr>\n",
              "      <th>2025-02-28</th>\n",
              "      <td>4.657417e+10</td>\n",
              "      <td>0.132258</td>\n",
              "      <td>4200.0</td>\n",
              "      <td>0.273075</td>\n",
              "      <td>0.0800</td>\n",
              "      <td>0.072711</td>\n",
              "      <td>0.075631</td>\n",
              "      <td>0.048467</td>\n",
              "      <td>0.007005</td>\n",
              "      <td>124.836302</td>\n",
              "      <td>0</td>\n",
              "      <td>24.564312</td>\n",
              "    </tr>\n",
              "    <tr>\n",
              "      <th>2025-03-31</th>\n",
              "      <td>5.276859e+10</td>\n",
              "      <td>0.125758</td>\n",
              "      <td>4200.0</td>\n",
              "      <td>0.267887</td>\n",
              "      <td>0.0725</td>\n",
              "      <td>0.070528</td>\n",
              "      <td>0.071127</td>\n",
              "      <td>0.047054</td>\n",
              "      <td>0.005690</td>\n",
              "      <td>123.822584</td>\n",
              "      <td>0</td>\n",
              "      <td>24.689182</td>\n",
              "    </tr>\n",
              "    <tr>\n",
              "      <th>2025-04-30</th>\n",
              "      <td>5.610283e+10</td>\n",
              "      <td>0.126564</td>\n",
              "      <td>4200.0</td>\n",
              "      <td>0.264651</td>\n",
              "      <td>0.0675</td>\n",
              "      <td>0.067683</td>\n",
              "      <td>0.067971</td>\n",
              "      <td>0.044535</td>\n",
              "      <td>0.003517</td>\n",
              "      <td>125.616814</td>\n",
              "      <td>0</td>\n",
              "      <td>24.750452</td>\n",
              "    </tr>\n",
              "    <tr>\n",
              "      <th>2025-05-31</th>\n",
              "      <td>4.179832e+10</td>\n",
              "      <td>0.123923</td>\n",
              "      <td>4200.0</td>\n",
              "      <td>0.261854</td>\n",
              "      <td>0.0675</td>\n",
              "      <td>0.064023</td>\n",
              "      <td>0.066256</td>\n",
              "      <td>0.042840</td>\n",
              "      <td>0.002586</td>\n",
              "      <td>125.428359</td>\n",
              "      <td>0</td>\n",
              "      <td>24.456122</td>\n",
              "    </tr>\n",
              "    <tr>\n",
              "      <th>2025-06-30</th>\n",
              "      <td>5.588806e+10</td>\n",
              "      <td>0.125659</td>\n",
              "      <td>4192.0</td>\n",
              "      <td>0.259050</td>\n",
              "      <td>0.0650</td>\n",
              "      <td>0.063013</td>\n",
              "      <td>0.064730</td>\n",
              "      <td>0.041434</td>\n",
              "      <td>0.001866</td>\n",
              "      <td>124.026019</td>\n",
              "      <td>0</td>\n",
              "      <td>24.746617</td>\n",
              "    </tr>\n",
              "  </tbody>\n",
              "</table>\n",
              "<p>78 rows × 12 columns</p>\n",
              "</div>\n",
              "    <div class=\"colab-df-buttons\">\n",
              "\n",
              "  <div class=\"colab-df-container\">\n",
              "    <button class=\"colab-df-convert\" onclick=\"convertToInteractive('df-c515efd7-9055-44b4-9d11-b88acef20f25')\"\n",
              "            title=\"Convert this dataframe to an interactive table.\"\n",
              "            style=\"display:none;\">\n",
              "\n",
              "  <svg xmlns=\"http://www.w3.org/2000/svg\" height=\"24px\" viewBox=\"0 -960 960 960\">\n",
              "    <path d=\"M120-120v-720h720v720H120Zm60-500h600v-160H180v160Zm220 220h160v-160H400v160Zm0 220h160v-160H400v160ZM180-400h160v-160H180v160Zm440 0h160v-160H620v160ZM180-180h160v-160H180v160Zm440 0h160v-160H620v160Z\"/>\n",
              "  </svg>\n",
              "    </button>\n",
              "\n",
              "  <style>\n",
              "    .colab-df-container {\n",
              "      display:flex;\n",
              "      gap: 12px;\n",
              "    }\n",
              "\n",
              "    .colab-df-convert {\n",
              "      background-color: #E8F0FE;\n",
              "      border: none;\n",
              "      border-radius: 50%;\n",
              "      cursor: pointer;\n",
              "      display: none;\n",
              "      fill: #1967D2;\n",
              "      height: 32px;\n",
              "      padding: 0 0 0 0;\n",
              "      width: 32px;\n",
              "    }\n",
              "\n",
              "    .colab-df-convert:hover {\n",
              "      background-color: #E2EBFA;\n",
              "      box-shadow: 0px 1px 2px rgba(60, 64, 67, 0.3), 0px 1px 3px 1px rgba(60, 64, 67, 0.15);\n",
              "      fill: #174EA6;\n",
              "    }\n",
              "\n",
              "    .colab-df-buttons div {\n",
              "      margin-bottom: 4px;\n",
              "    }\n",
              "\n",
              "    [theme=dark] .colab-df-convert {\n",
              "      background-color: #3B4455;\n",
              "      fill: #D2E3FC;\n",
              "    }\n",
              "\n",
              "    [theme=dark] .colab-df-convert:hover {\n",
              "      background-color: #434B5C;\n",
              "      box-shadow: 0px 1px 3px 1px rgba(0, 0, 0, 0.15);\n",
              "      filter: drop-shadow(0px 1px 2px rgba(0, 0, 0, 0.3));\n",
              "      fill: #FFFFFF;\n",
              "    }\n",
              "  </style>\n",
              "\n",
              "    <script>\n",
              "      const buttonEl =\n",
              "        document.querySelector('#df-c515efd7-9055-44b4-9d11-b88acef20f25 button.colab-df-convert');\n",
              "      buttonEl.style.display =\n",
              "        google.colab.kernel.accessAllowed ? 'block' : 'none';\n",
              "\n",
              "      async function convertToInteractive(key) {\n",
              "        const element = document.querySelector('#df-c515efd7-9055-44b4-9d11-b88acef20f25');\n",
              "        const dataTable =\n",
              "          await google.colab.kernel.invokeFunction('convertToInteractive',\n",
              "                                                    [key], {});\n",
              "        if (!dataTable) return;\n",
              "\n",
              "        const docLinkHtml = 'Like what you see? Visit the ' +\n",
              "          '<a target=\"_blank\" href=https://colab.research.google.com/notebooks/data_table.ipynb>data table notebook</a>'\n",
              "          + ' to learn more about interactive tables.';\n",
              "        element.innerHTML = '';\n",
              "        dataTable['output_type'] = 'display_data';\n",
              "        await google.colab.output.renderOutput(dataTable, element);\n",
              "        const docLink = document.createElement('div');\n",
              "        docLink.innerHTML = docLinkHtml;\n",
              "        element.appendChild(docLink);\n",
              "      }\n",
              "    </script>\n",
              "  </div>\n",
              "\n",
              "\n",
              "    <div id=\"df-0035d8f7-6acd-4d59-82c9-7e1bf6e89eff\">\n",
              "      <button class=\"colab-df-quickchart\" onclick=\"quickchart('df-0035d8f7-6acd-4d59-82c9-7e1bf6e89eff')\"\n",
              "                title=\"Suggest charts\"\n",
              "                style=\"display:none;\">\n",
              "\n",
              "<svg xmlns=\"http://www.w3.org/2000/svg\" height=\"24px\"viewBox=\"0 0 24 24\"\n",
              "     width=\"24px\">\n",
              "    <g>\n",
              "        <path d=\"M19 3H5c-1.1 0-2 .9-2 2v14c0 1.1.9 2 2 2h14c1.1 0 2-.9 2-2V5c0-1.1-.9-2-2-2zM9 17H7v-7h2v7zm4 0h-2V7h2v10zm4 0h-2v-4h2v4z\"/>\n",
              "    </g>\n",
              "</svg>\n",
              "      </button>\n",
              "\n",
              "<style>\n",
              "  .colab-df-quickchart {\n",
              "      --bg-color: #E8F0FE;\n",
              "      --fill-color: #1967D2;\n",
              "      --hover-bg-color: #E2EBFA;\n",
              "      --hover-fill-color: #174EA6;\n",
              "      --disabled-fill-color: #AAA;\n",
              "      --disabled-bg-color: #DDD;\n",
              "  }\n",
              "\n",
              "  [theme=dark] .colab-df-quickchart {\n",
              "      --bg-color: #3B4455;\n",
              "      --fill-color: #D2E3FC;\n",
              "      --hover-bg-color: #434B5C;\n",
              "      --hover-fill-color: #FFFFFF;\n",
              "      --disabled-bg-color: #3B4455;\n",
              "      --disabled-fill-color: #666;\n",
              "  }\n",
              "\n",
              "  .colab-df-quickchart {\n",
              "    background-color: var(--bg-color);\n",
              "    border: none;\n",
              "    border-radius: 50%;\n",
              "    cursor: pointer;\n",
              "    display: none;\n",
              "    fill: var(--fill-color);\n",
              "    height: 32px;\n",
              "    padding: 0;\n",
              "    width: 32px;\n",
              "  }\n",
              "\n",
              "  .colab-df-quickchart:hover {\n",
              "    background-color: var(--hover-bg-color);\n",
              "    box-shadow: 0 1px 2px rgba(60, 64, 67, 0.3), 0 1px 3px 1px rgba(60, 64, 67, 0.15);\n",
              "    fill: var(--button-hover-fill-color);\n",
              "  }\n",
              "\n",
              "  .colab-df-quickchart-complete:disabled,\n",
              "  .colab-df-quickchart-complete:disabled:hover {\n",
              "    background-color: var(--disabled-bg-color);\n",
              "    fill: var(--disabled-fill-color);\n",
              "    box-shadow: none;\n",
              "  }\n",
              "\n",
              "  .colab-df-spinner {\n",
              "    border: 2px solid var(--fill-color);\n",
              "    border-color: transparent;\n",
              "    border-bottom-color: var(--fill-color);\n",
              "    animation:\n",
              "      spin 1s steps(1) infinite;\n",
              "  }\n",
              "\n",
              "  @keyframes spin {\n",
              "    0% {\n",
              "      border-color: transparent;\n",
              "      border-bottom-color: var(--fill-color);\n",
              "      border-left-color: var(--fill-color);\n",
              "    }\n",
              "    20% {\n",
              "      border-color: transparent;\n",
              "      border-left-color: var(--fill-color);\n",
              "      border-top-color: var(--fill-color);\n",
              "    }\n",
              "    30% {\n",
              "      border-color: transparent;\n",
              "      border-left-color: var(--fill-color);\n",
              "      border-top-color: var(--fill-color);\n",
              "      border-right-color: var(--fill-color);\n",
              "    }\n",
              "    40% {\n",
              "      border-color: transparent;\n",
              "      border-right-color: var(--fill-color);\n",
              "      border-top-color: var(--fill-color);\n",
              "    }\n",
              "    60% {\n",
              "      border-color: transparent;\n",
              "      border-right-color: var(--fill-color);\n",
              "    }\n",
              "    80% {\n",
              "      border-color: transparent;\n",
              "      border-right-color: var(--fill-color);\n",
              "      border-bottom-color: var(--fill-color);\n",
              "    }\n",
              "    90% {\n",
              "      border-color: transparent;\n",
              "      border-bottom-color: var(--fill-color);\n",
              "    }\n",
              "  }\n",
              "</style>\n",
              "\n",
              "      <script>\n",
              "        async function quickchart(key) {\n",
              "          const quickchartButtonEl =\n",
              "            document.querySelector('#' + key + ' button');\n",
              "          quickchartButtonEl.disabled = true;  // To prevent multiple clicks.\n",
              "          quickchartButtonEl.classList.add('colab-df-spinner');\n",
              "          try {\n",
              "            const charts = await google.colab.kernel.invokeFunction(\n",
              "                'suggestCharts', [key], {});\n",
              "          } catch (error) {\n",
              "            console.error('Error during call to suggestCharts:', error);\n",
              "          }\n",
              "          quickchartButtonEl.classList.remove('colab-df-spinner');\n",
              "          quickchartButtonEl.classList.add('colab-df-quickchart-complete');\n",
              "        }\n",
              "        (() => {\n",
              "          let quickchartButtonEl =\n",
              "            document.querySelector('#df-0035d8f7-6acd-4d59-82c9-7e1bf6e89eff button');\n",
              "          quickchartButtonEl.style.display =\n",
              "            google.colab.kernel.accessAllowed ? 'block' : 'none';\n",
              "        })();\n",
              "      </script>\n",
              "    </div>\n",
              "\n",
              "  <div id=\"id_eee41643-391d-408c-901e-5b1dabd3ca09\">\n",
              "    <style>\n",
              "      .colab-df-generate {\n",
              "        background-color: #E8F0FE;\n",
              "        border: none;\n",
              "        border-radius: 50%;\n",
              "        cursor: pointer;\n",
              "        display: none;\n",
              "        fill: #1967D2;\n",
              "        height: 32px;\n",
              "        padding: 0 0 0 0;\n",
              "        width: 32px;\n",
              "      }\n",
              "\n",
              "      .colab-df-generate:hover {\n",
              "        background-color: #E2EBFA;\n",
              "        box-shadow: 0px 1px 2px rgba(60, 64, 67, 0.3), 0px 1px 3px 1px rgba(60, 64, 67, 0.15);\n",
              "        fill: #174EA6;\n",
              "      }\n",
              "\n",
              "      [theme=dark] .colab-df-generate {\n",
              "        background-color: #3B4455;\n",
              "        fill: #D2E3FC;\n",
              "      }\n",
              "\n",
              "      [theme=dark] .colab-df-generate:hover {\n",
              "        background-color: #434B5C;\n",
              "        box-shadow: 0px 1px 3px 1px rgba(0, 0, 0, 0.15);\n",
              "        filter: drop-shadow(0px 1px 2px rgba(0, 0, 0, 0.3));\n",
              "        fill: #FFFFFF;\n",
              "      }\n",
              "    </style>\n",
              "    <button class=\"colab-df-generate\" onclick=\"generateWithVariable('df')\"\n",
              "            title=\"Generate code using this dataframe.\"\n",
              "            style=\"display:none;\">\n",
              "\n",
              "  <svg xmlns=\"http://www.w3.org/2000/svg\" height=\"24px\"viewBox=\"0 0 24 24\"\n",
              "       width=\"24px\">\n",
              "    <path d=\"M7,19H8.4L18.45,9,17,7.55,7,17.6ZM5,21V16.75L18.45,3.32a2,2,0,0,1,2.83,0l1.4,1.43a1.91,1.91,0,0,1,.58,1.4,1.91,1.91,0,0,1-.58,1.4L9.25,21ZM18.45,9,17,7.55Zm-12,3A5.31,5.31,0,0,0,4.9,8.1,5.31,5.31,0,0,0,1,6.5,5.31,5.31,0,0,0,4.9,4.9,5.31,5.31,0,0,0,6.5,1,5.31,5.31,0,0,0,8.1,4.9,5.31,5.31,0,0,0,12,6.5,5.46,5.46,0,0,0,6.5,12Z\"/>\n",
              "  </svg>\n",
              "    </button>\n",
              "    <script>\n",
              "      (() => {\n",
              "      const buttonEl =\n",
              "        document.querySelector('#id_eee41643-391d-408c-901e-5b1dabd3ca09 button.colab-df-generate');\n",
              "      buttonEl.style.display =\n",
              "        google.colab.kernel.accessAllowed ? 'block' : 'none';\n",
              "\n",
              "      buttonEl.onclick = () => {\n",
              "        google.colab.notebook.generateWithVariable('df');\n",
              "      }\n",
              "      })();\n",
              "    </script>\n",
              "  </div>\n",
              "\n",
              "    </div>\n",
              "  </div>\n"
            ],
            "application/vnd.google.colaboratory.intrinsic+json": {
              "type": "dataframe",
              "variable_name": "df",
              "summary": "{\n  \"name\": \"df\",\n  \"rows\": 78,\n  \"fields\": [\n    {\n      \"column\": \"Fecha\",\n      \"properties\": {\n        \"dtype\": \"date\",\n        \"min\": \"2019-01-31 00:00:00\",\n        \"max\": \"2025-06-30 00:00:00\",\n        \"num_unique_values\": 78,\n        \"samples\": [\n          \"2021-10-31 00:00:00\",\n          \"2019-01-31 00:00:00\",\n          \"2021-11-30 00:00:00\"\n        ],\n        \"semantic_type\": \"\",\n        \"description\": \"\"\n      }\n    },\n    {\n      \"column\": \"UTILIDAD\",\n      \"properties\": {\n        \"dtype\": \"number\",\n        \"std\": 15017430242.854864,\n        \"min\": 6753245561.979919,\n        \"max\": 78058787185.04895,\n        \"num_unique_values\": 78,\n        \"samples\": [\n          29744216197.97003,\n          43564864661.96998,\n          37893859987.57959\n        ],\n        \"semantic_type\": \"\",\n        \"description\": \"\"\n      }\n    },\n    {\n      \"column\": \"DESEMPLEO_URBANO_\",\n      \"properties\": {\n        \"dtype\": \"number\",\n        \"std\": 0.03749827874290746,\n        \"min\": 0.08655,\n        \"max\": 0.24870524,\n        \"num_unique_values\": 78,\n        \"samples\": [\n          0.123393202,\n          0.137393278,\n          0.12244688\n        ],\n        \"semantic_type\": \"\",\n        \"description\": \"\"\n      }\n    },\n    {\n      \"column\": \"TRM\",\n      \"properties\": {\n        \"dtype\": \"number\",\n        \"std\": 413.67149194262515,\n        \"min\": 3072.0,\n        \"max\": 4819.0,\n        \"num_unique_values\": 70,\n        \"samples\": [\n          3611.0,\n          3163.0,\n          4627.0\n        ],\n        \"semantic_type\": \"\",\n        \"description\": \"\"\n      }\n    },\n    {\n      \"column\": \"USURA_CONSUMO_COMERCIAL\",\n      \"properties\": {\n        \"dtype\": \"number\",\n        \"std\": 0.06067284863290021,\n        \"min\": 0.2562,\n        \"max\": 0.4709,\n        \"num_unique_values\": 74,\n        \"samples\": [\n          0.2901,\n          0.2921,\n          0.2714\n        ],\n        \"semantic_type\": \"\",\n        \"description\": \"\"\n      }\n    },\n    {\n      \"column\": \"TASA_INTERVENCION_BANREP\",\n      \"properties\": {\n        \"dtype\": \"number\",\n        \"std\": 0.042683708067586326,\n        \"min\": 0.0175,\n        \"max\": 0.1325,\n        \"num_unique_values\": 31,\n        \"samples\": [\n          0.08,\n          0.11,\n          0.1075\n        ],\n        \"semantic_type\": \"\",\n        \"description\": \"\"\n      }\n    },\n    {\n      \"column\": \"IBR_3M\",\n      \"properties\": {\n        \"dtype\": \"number\",\n        \"std\": 0.040134158531635794,\n        \"min\": 0.01659,\n        \"max\": 0.1256104761904762,\n        \"num_unique_values\": 75,\n        \"samples\": [\n          0.04126,\n          0.106975,\n          0.04134\n        ],\n        \"semantic_type\": \"\",\n        \"description\": \"\"\n      }\n    },\n    {\n      \"column\": \"DTF_EA\",\n      \"properties\": {\n        \"dtype\": \"number\",\n        \"std\": 0.040562354757481954,\n        \"min\": 0.0174,\n        \"max\": 0.143,\n        \"num_unique_values\": 74,\n        \"samples\": [\n          0.0447,\n          0.099,\n          0.021261987\n        ],\n        \"semantic_type\": \"\",\n        \"description\": \"\"\n      }\n    },\n    {\n      \"column\": \"INFLACION ANUAL\",\n      \"properties\": {\n        \"dtype\": \"number\",\n        \"std\": 0.03638507589704019,\n        \"min\": 0.014873479,\n        \"max\": 0.133407879,\n        \"num_unique_values\": 78,\n        \"samples\": [\n          0.045899458,\n          0.031477494,\n          0.052531405\n        ],\n        \"semantic_type\": \"\",\n        \"description\": \"\"\n      }\n    },\n    {\n      \"column\": \"INFLACION MES\",\n      \"properties\": {\n        \"dtype\": \"number\",\n        \"std\": 0.004293625075129552,\n        \"min\": -0.003701595,\n        \"max\": 0.017773546,\n        \"num_unique_values\": 78,\n        \"samples\": [\n          0.000181752,\n          0.006,\n          0.004906415\n        ],\n        \"semantic_type\": \"\",\n        \"description\": \"\"\n      }\n    },\n    {\n      \"column\": \"ISE\",\n      \"properties\": {\n        \"dtype\": \"number\",\n        \"std\": 8.387084554922252,\n        \"min\": 86.89552046624146,\n        \"max\": 125.61681449579606,\n        \"num_unique_values\": 78,\n        \"samples\": [\n          115.87959298734094,\n          107.89310028542336,\n          117.25975182272559\n        ],\n        \"semantic_type\": \"\",\n        \"description\": \"\"\n      }\n    },\n    {\n      \"column\": \"Provisones\",\n      \"properties\": {\n        \"dtype\": \"number\",\n        \"std\": 0,\n        \"min\": 0,\n        \"max\": 1,\n        \"num_unique_values\": 2,\n        \"samples\": [\n          1,\n          0\n        ],\n        \"semantic_type\": \"\",\n        \"description\": \"\"\n      }\n    },\n    {\n      \"column\": \"log_UTILIDAD\",\n      \"properties\": {\n        \"dtype\": \"number\",\n        \"std\": 0.47862286865282516,\n        \"min\": 22.633289050269056,\n        \"max\": 25.080728061620057,\n        \"num_unique_values\": 78,\n        \"samples\": [\n          24.115900536523682,\n          24.497516806047766\n        ],\n        \"semantic_type\": \"\",\n        \"description\": \"\"\n      }\n    }\n  ]\n}"
            }
          },
          "metadata": {},
          "execution_count": 19
        }
      ]
    },
    {
      "cell_type": "code",
      "source": [
        "df['Mes'] = df.index.month\n",
        "\n",
        "df['Mes'].head()\n",
        "\n",
        "from sklearn.preprocessing import OneHotEncoder\n",
        "\n",
        "dummies = pd.get_dummies(df['Mes'], dtype= 'int', drop_first= True)\n",
        "\n",
        "df = pd.concat([df, dummies], axis = 1)\n"
      ],
      "metadata": {
        "id": "mLTmHyOIjo7N"
      },
      "execution_count": 59,
      "outputs": []
    },
    {
      "cell_type": "code",
      "source": [
        "df.columns = df.columns.astype('str')\n",
        "df.columns"
      ],
      "metadata": {
        "colab": {
          "base_uri": "https://localhost:8080/"
        },
        "id": "25aoyloQkus_",
        "outputId": "333f7f9c-9f7a-44bb-cc7c-167d9ec6728b"
      },
      "execution_count": 65,
      "outputs": [
        {
          "output_type": "execute_result",
          "data": {
            "text/plain": [
              "Index(['UTILIDAD', 'DESEMPLEO_URBANO_', 'TRM', 'USURA_CONSUMO_COMERCIAL',\n",
              "       'TASA_INTERVENCION_BANREP', 'IBR_3M', 'DTF_EA', 'INFLACION ANUAL',\n",
              "       'INFLACION MES', 'ISE', 'Provisones', 'log_UTILIDAD', 'Mes', '2', '3',\n",
              "       '4', '5', '6', '7', '8', '9', '10', '11', '12'],\n",
              "      dtype='object')"
            ]
          },
          "metadata": {},
          "execution_count": 65
        }
      ]
    },
    {
      "cell_type": "code",
      "source": [
        "\n",
        "\n",
        "objetivo = 'log_UTILIDAD'\n",
        "exog = ['IBR_3M', 'Provisones','2', '3',\n",
        "       '4', '5', '6', '7', '8', '9', '10', '11', '12' ]\n",
        "\n",
        "x_train, x_test, y_train, y_test = train_test_split(df[exog], df[objetivo], shuffle = False, test_size= 0.33)\n",
        "\n",
        "modelo_arima = pm.auto_arima(y_train, x_train, start_p=0, start_q=0,\n",
        "                             max_p=5, max_q=5, trace=True,\n",
        "                             error_action='ignore',\n",
        "                             suppress_warnings=True,\n",
        "                             stepwise=False)"
      ],
      "metadata": {
        "colab": {
          "base_uri": "https://localhost:8080/"
        },
        "collapsed": true,
        "id": "4Jn914Yfei6M",
        "outputId": "7c9734bf-4ed2-4f60-8680-878081ec82c8"
      },
      "execution_count": 81,
      "outputs": [
        {
          "output_type": "stream",
          "name": "stderr",
          "text": [
            "/usr/local/lib/python3.12/dist-packages/sklearn/utils/deprecation.py:151: FutureWarning: 'force_all_finite' was renamed to 'ensure_all_finite' in 1.6 and will be removed in 1.8.\n",
            "  warnings.warn(\n",
            "/usr/local/lib/python3.12/dist-packages/sklearn/utils/deprecation.py:151: FutureWarning: 'force_all_finite' was renamed to 'ensure_all_finite' in 1.6 and will be removed in 1.8.\n",
            "  warnings.warn(\n",
            "/usr/local/lib/python3.12/dist-packages/sklearn/utils/deprecation.py:151: FutureWarning: 'force_all_finite' was renamed to 'ensure_all_finite' in 1.6 and will be removed in 1.8.\n",
            "  warnings.warn(\n",
            "/usr/local/lib/python3.12/dist-packages/sklearn/utils/deprecation.py:151: FutureWarning: 'force_all_finite' was renamed to 'ensure_all_finite' in 1.6 and will be removed in 1.8.\n",
            "  warnings.warn(\n",
            "/usr/local/lib/python3.12/dist-packages/sklearn/utils/deprecation.py:151: FutureWarning: 'force_all_finite' was renamed to 'ensure_all_finite' in 1.6 and will be removed in 1.8.\n",
            "  warnings.warn(\n",
            "/usr/local/lib/python3.12/dist-packages/sklearn/utils/deprecation.py:151: FutureWarning: 'force_all_finite' was renamed to 'ensure_all_finite' in 1.6 and will be removed in 1.8.\n",
            "  warnings.warn(\n"
          ]
        },
        {
          "output_type": "stream",
          "name": "stdout",
          "text": [
            " ARIMA(0,0,0)(0,0,0)[1] intercept   : AIC=66.967, Time=0.55 sec\n"
          ]
        },
        {
          "output_type": "stream",
          "name": "stderr",
          "text": [
            "/usr/local/lib/python3.12/dist-packages/sklearn/utils/deprecation.py:151: FutureWarning: 'force_all_finite' was renamed to 'ensure_all_finite' in 1.6 and will be removed in 1.8.\n",
            "  warnings.warn(\n"
          ]
        },
        {
          "output_type": "stream",
          "name": "stdout",
          "text": [
            " ARIMA(0,0,1)(0,0,0)[1] intercept   : AIC=inf, Time=0.57 sec\n"
          ]
        },
        {
          "output_type": "stream",
          "name": "stderr",
          "text": [
            "/usr/local/lib/python3.12/dist-packages/sklearn/utils/deprecation.py:151: FutureWarning: 'force_all_finite' was renamed to 'ensure_all_finite' in 1.6 and will be removed in 1.8.\n",
            "  warnings.warn(\n"
          ]
        },
        {
          "output_type": "stream",
          "name": "stdout",
          "text": [
            " ARIMA(0,0,2)(0,0,0)[1] intercept   : AIC=inf, Time=0.66 sec\n"
          ]
        },
        {
          "output_type": "stream",
          "name": "stderr",
          "text": [
            "/usr/local/lib/python3.12/dist-packages/sklearn/utils/deprecation.py:151: FutureWarning: 'force_all_finite' was renamed to 'ensure_all_finite' in 1.6 and will be removed in 1.8.\n",
            "  warnings.warn(\n"
          ]
        },
        {
          "output_type": "stream",
          "name": "stdout",
          "text": [
            " ARIMA(0,0,3)(0,0,0)[1] intercept   : AIC=inf, Time=0.76 sec\n"
          ]
        },
        {
          "output_type": "stream",
          "name": "stderr",
          "text": [
            "/usr/local/lib/python3.12/dist-packages/sklearn/utils/deprecation.py:151: FutureWarning: 'force_all_finite' was renamed to 'ensure_all_finite' in 1.6 and will be removed in 1.8.\n",
            "  warnings.warn(\n"
          ]
        },
        {
          "output_type": "stream",
          "name": "stdout",
          "text": [
            " ARIMA(0,0,4)(0,0,0)[1] intercept   : AIC=inf, Time=2.69 sec\n"
          ]
        },
        {
          "output_type": "stream",
          "name": "stderr",
          "text": [
            "/usr/local/lib/python3.12/dist-packages/sklearn/utils/deprecation.py:151: FutureWarning: 'force_all_finite' was renamed to 'ensure_all_finite' in 1.6 and will be removed in 1.8.\n",
            "  warnings.warn(\n"
          ]
        },
        {
          "output_type": "stream",
          "name": "stdout",
          "text": [
            " ARIMA(0,0,5)(0,0,0)[1] intercept   : AIC=inf, Time=1.66 sec\n"
          ]
        },
        {
          "output_type": "stream",
          "name": "stderr",
          "text": [
            "/usr/local/lib/python3.12/dist-packages/sklearn/utils/deprecation.py:151: FutureWarning: 'force_all_finite' was renamed to 'ensure_all_finite' in 1.6 and will be removed in 1.8.\n",
            "  warnings.warn(\n"
          ]
        },
        {
          "output_type": "stream",
          "name": "stdout",
          "text": [
            " ARIMA(1,0,0)(0,0,0)[1] intercept   : AIC=126.053, Time=0.54 sec\n"
          ]
        },
        {
          "output_type": "stream",
          "name": "stderr",
          "text": [
            "/usr/local/lib/python3.12/dist-packages/sklearn/utils/deprecation.py:151: FutureWarning: 'force_all_finite' was renamed to 'ensure_all_finite' in 1.6 and will be removed in 1.8.\n",
            "  warnings.warn(\n"
          ]
        },
        {
          "output_type": "stream",
          "name": "stdout",
          "text": [
            " ARIMA(1,0,1)(0,0,0)[1] intercept   : AIC=135.548, Time=0.64 sec\n"
          ]
        },
        {
          "output_type": "stream",
          "name": "stderr",
          "text": [
            "/usr/local/lib/python3.12/dist-packages/sklearn/utils/deprecation.py:151: FutureWarning: 'force_all_finite' was renamed to 'ensure_all_finite' in 1.6 and will be removed in 1.8.\n",
            "  warnings.warn(\n"
          ]
        },
        {
          "output_type": "stream",
          "name": "stdout",
          "text": [
            " ARIMA(1,0,2)(0,0,0)[1] intercept   : AIC=inf, Time=0.83 sec\n"
          ]
        },
        {
          "output_type": "stream",
          "name": "stderr",
          "text": [
            "/usr/local/lib/python3.12/dist-packages/sklearn/utils/deprecation.py:151: FutureWarning: 'force_all_finite' was renamed to 'ensure_all_finite' in 1.6 and will be removed in 1.8.\n",
            "  warnings.warn(\n"
          ]
        },
        {
          "output_type": "stream",
          "name": "stdout",
          "text": [
            " ARIMA(1,0,3)(0,0,0)[1] intercept   : AIC=inf, Time=0.74 sec\n"
          ]
        },
        {
          "output_type": "stream",
          "name": "stderr",
          "text": [
            "/usr/local/lib/python3.12/dist-packages/sklearn/utils/deprecation.py:151: FutureWarning: 'force_all_finite' was renamed to 'ensure_all_finite' in 1.6 and will be removed in 1.8.\n",
            "  warnings.warn(\n"
          ]
        },
        {
          "output_type": "stream",
          "name": "stdout",
          "text": [
            " ARIMA(1,0,4)(0,0,0)[1] intercept   : AIC=213.269, Time=1.01 sec\n"
          ]
        },
        {
          "output_type": "stream",
          "name": "stderr",
          "text": [
            "/usr/local/lib/python3.12/dist-packages/sklearn/utils/deprecation.py:151: FutureWarning: 'force_all_finite' was renamed to 'ensure_all_finite' in 1.6 and will be removed in 1.8.\n",
            "  warnings.warn(\n"
          ]
        },
        {
          "output_type": "stream",
          "name": "stdout",
          "text": [
            " ARIMA(2,0,0)(0,0,0)[1] intercept   : AIC=191.750, Time=0.58 sec\n"
          ]
        },
        {
          "output_type": "stream",
          "name": "stderr",
          "text": [
            "/usr/local/lib/python3.12/dist-packages/sklearn/utils/deprecation.py:151: FutureWarning: 'force_all_finite' was renamed to 'ensure_all_finite' in 1.6 and will be removed in 1.8.\n",
            "  warnings.warn(\n"
          ]
        },
        {
          "output_type": "stream",
          "name": "stdout",
          "text": [
            " ARIMA(2,0,1)(0,0,0)[1] intercept   : AIC=192.311, Time=0.76 sec\n"
          ]
        },
        {
          "output_type": "stream",
          "name": "stderr",
          "text": [
            "/usr/local/lib/python3.12/dist-packages/sklearn/utils/deprecation.py:151: FutureWarning: 'force_all_finite' was renamed to 'ensure_all_finite' in 1.6 and will be removed in 1.8.\n",
            "  warnings.warn(\n"
          ]
        },
        {
          "output_type": "stream",
          "name": "stdout",
          "text": [
            " ARIMA(2,0,2)(0,0,0)[1] intercept   : AIC=215.506, Time=0.81 sec\n"
          ]
        },
        {
          "output_type": "stream",
          "name": "stderr",
          "text": [
            "/usr/local/lib/python3.12/dist-packages/sklearn/utils/deprecation.py:151: FutureWarning: 'force_all_finite' was renamed to 'ensure_all_finite' in 1.6 and will be removed in 1.8.\n",
            "  warnings.warn(\n"
          ]
        },
        {
          "output_type": "stream",
          "name": "stdout",
          "text": [
            " ARIMA(2,0,3)(0,0,0)[1] intercept   : AIC=203.742, Time=1.13 sec\n"
          ]
        },
        {
          "output_type": "stream",
          "name": "stderr",
          "text": [
            "/usr/local/lib/python3.12/dist-packages/sklearn/utils/deprecation.py:151: FutureWarning: 'force_all_finite' was renamed to 'ensure_all_finite' in 1.6 and will be removed in 1.8.\n",
            "  warnings.warn(\n"
          ]
        },
        {
          "output_type": "stream",
          "name": "stdout",
          "text": [
            " ARIMA(3,0,0)(0,0,0)[1] intercept   : AIC=192.180, Time=0.75 sec\n"
          ]
        },
        {
          "output_type": "stream",
          "name": "stderr",
          "text": [
            "/usr/local/lib/python3.12/dist-packages/sklearn/utils/deprecation.py:151: FutureWarning: 'force_all_finite' was renamed to 'ensure_all_finite' in 1.6 and will be removed in 1.8.\n",
            "  warnings.warn(\n"
          ]
        },
        {
          "output_type": "stream",
          "name": "stdout",
          "text": [
            " ARIMA(3,0,1)(0,0,0)[1] intercept   : AIC=196.186, Time=0.70 sec\n"
          ]
        },
        {
          "output_type": "stream",
          "name": "stderr",
          "text": [
            "/usr/local/lib/python3.12/dist-packages/sklearn/utils/deprecation.py:151: FutureWarning: 'force_all_finite' was renamed to 'ensure_all_finite' in 1.6 and will be removed in 1.8.\n",
            "  warnings.warn(\n"
          ]
        },
        {
          "output_type": "stream",
          "name": "stdout",
          "text": [
            " ARIMA(3,0,2)(0,0,0)[1] intercept   : AIC=inf, Time=nan sec\n"
          ]
        },
        {
          "output_type": "stream",
          "name": "stderr",
          "text": [
            "/usr/local/lib/python3.12/dist-packages/sklearn/utils/deprecation.py:151: FutureWarning: 'force_all_finite' was renamed to 'ensure_all_finite' in 1.6 and will be removed in 1.8.\n",
            "  warnings.warn(\n"
          ]
        },
        {
          "output_type": "stream",
          "name": "stdout",
          "text": [
            " ARIMA(4,0,0)(0,0,0)[1] intercept   : AIC=169.634, Time=2.92 sec\n"
          ]
        },
        {
          "output_type": "stream",
          "name": "stderr",
          "text": [
            "/usr/local/lib/python3.12/dist-packages/sklearn/utils/deprecation.py:151: FutureWarning: 'force_all_finite' was renamed to 'ensure_all_finite' in 1.6 and will be removed in 1.8.\n",
            "  warnings.warn(\n"
          ]
        },
        {
          "output_type": "stream",
          "name": "stdout",
          "text": [
            " ARIMA(4,0,1)(0,0,0)[1] intercept   : AIC=196.551, Time=1.31 sec\n"
          ]
        },
        {
          "output_type": "stream",
          "name": "stderr",
          "text": [
            "/usr/local/lib/python3.12/dist-packages/sklearn/utils/deprecation.py:151: FutureWarning: 'force_all_finite' was renamed to 'ensure_all_finite' in 1.6 and will be removed in 1.8.\n",
            "  warnings.warn(\n"
          ]
        },
        {
          "output_type": "stream",
          "name": "stdout",
          "text": [
            " ARIMA(5,0,0)(0,0,0)[1] intercept   : AIC=215.943, Time=0.90 sec\n",
            "\n",
            "Best model:  ARIMA(0,0,0)(0,0,0)[1] intercept\n",
            "Total fit time: 21.323 seconds\n"
          ]
        }
      ]
    },
    {
      "cell_type": "code",
      "source": [
        "pred_modelo =pd.Series(modelo_arima.predict(n_periods = len(x_test), X = x_test), index = x_test.index)"
      ],
      "metadata": {
        "colab": {
          "base_uri": "https://localhost:8080/"
        },
        "id": "ojym3LrchypN",
        "outputId": "23cad979-835f-4cbf-c03b-6dee29879c58"
      },
      "execution_count": 82,
      "outputs": [
        {
          "output_type": "stream",
          "name": "stderr",
          "text": [
            "/usr/local/lib/python3.12/dist-packages/sklearn/utils/deprecation.py:151: FutureWarning: 'force_all_finite' was renamed to 'ensure_all_finite' in 1.6 and will be removed in 1.8.\n",
            "  warnings.warn(\n"
          ]
        }
      ]
    },
    {
      "cell_type": "code",
      "source": [
        "df['UTILIDAD'].plot()\n",
        "np.exp(pred_modelo).plot()\n",
        "plt.show()"
      ],
      "metadata": {
        "colab": {
          "base_uri": "https://localhost:8080/",
          "height": 485
        },
        "id": "wX36XdABiHXr",
        "outputId": "877aa246-e54c-46da-ce9a-ce64c7d609c0"
      },
      "execution_count": 83,
      "outputs": [
        {
          "output_type": "display_data",
          "data": {
            "text/plain": [
              "<Figure size 640x480 with 1 Axes>"
            ],
            "image/png": "[encoded data removed]"
          },
          "metadata": {}
        }
      ]
    }
  ]
}