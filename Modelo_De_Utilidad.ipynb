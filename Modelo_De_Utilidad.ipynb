{
  "nbformat": 4,
  "nbformat_minor": 0,
  "metadata": {
    "colab": {
      "provenance": [],
      "include_colab_link": true
    },
    "kernelspec": {
      "name": "python3",
      "display_name": "Python 3"
    },
    "language_info": {
      "name": "python"
    }
  },
  "cells": [
    {
      "cell_type": "markdown",
      "metadata": {
        "id": "view-in-github",
        "colab_type": "text"
      },
      "source": [
        "<a href=\"https://colab.research.google.com/github/JuanPabloP23/Proyecto-An-lisis-de-datos/blob/main/Modelo_De_Utilidad.ipynb\" target=\"_parent\"><img src=\"https://colab.research.google.com/assets/colab-badge.svg\" alt=\"Open In Colab\"/></a>"
      ]
    },
    {
      "cell_type": "markdown",
      "source": [
        "Estimación de la utilidad mensual para Banco de Occidente.\n",
        "Los datos provienen de fuentes públicas por parte de superintendencia financiera."
      ],
      "metadata": {
        "id": "Rpe3KTRglLpf"
      }
    },
    {
      "cell_type": "markdown",
      "source": [
        "**1. Contexto**\n",
        "\n",
        "Dentro de las organizaciones llevar a cabo un plan hacía el futuro para poder tener un objetivo para el cual organizar sus recursos de la manera más efectiva posible. Por esto dentro de área de planeación financiera de Banco de Occidente se propone un modelo matemático para poder entender y poder predecir como se comporatarían los resultados financieros del banco con base a un escenario macroeconómico propuesto. Por lo tanto el siguiente proyecto da las bas."
      ],
      "metadata": {
        "id": "FvUK51WDTdJY"
      }
    },
    {
      "cell_type": "markdown",
      "source": [
        "**2. Pregunta SMART**\n",
        "\n",
        "¿Es posible hacer un modelo de pronóstico para predecir la utilidad del banco de occidente en un horizonte de dos años con una precisión de 10%?.\n",
        "\n",
        "*   Específica: Se enfoca en una sola entidad (Banco de Occidente), una variable concreta (utilidad) y un horizonte definido (2 años).\n",
        "\n",
        "* Medible: La precisión del 10% es un criterio cuantitativo verificable mediante métricas de error como MAPE o RMSE.\n",
        "\n",
        "* Alcanzable: Un margen de error del 10% es exigente pero viable en pronósticos financieros considerando la incertidumbre de factores externos.\n",
        "\n",
        "* Relevante: La predicción de la utilidad es fundamental para la toma de decisiones estratégicas, de inversión y académicas.\n",
        "\n",
        "* Temporal: El plazo está claramente establecido en 2 años.\n"
      ],
      "metadata": {
        "id": "Q7NP84yhSAfd"
      }
    },
    {
      "cell_type": "markdown",
      "source": [
        "**3. Descripción de los campos**\n",
        "                 \n",
        " * BANCO DE OCCIDENTE S.A.: Utilidad neta mensual del banco despues de impuestos.  \n",
        "\n",
        " * DESEMPLEO_URBANO_: Porcentaje de la población económicamente activa en zonas urbanas sin empleo.\n",
        "\n",
        " * TRM: Valor promedio del dólar en pesos colombianos\n",
        "\n",
        " * USURA_CONSUMO_COMERCIAL: Tasa máxima de interés legal en créditos de consumo y comerciales.\n",
        "\n",
        "* TASA_INTERVENCION_BANREP: Tasa de referencia fijada por el Banco de la República.\n",
        "\n",
        "* IBR_3M: Indicador Bancario de Referencia a 3 meses, tasa interbancaria de corto plazo.\n",
        "\n",
        "* DTF_EA: Tasa promedio anual de captación de CDT en el sistema financiero.\n",
        "\n",
        " * INFLACION ANUAL: Variación porcentual anual del Índice de Precios al Consumidor (IPC).\n",
        "\n",
        " * INFLACION MES: Variación mensual del IPC.\n",
        "\n",
        " * ISE: Índice de Seguimiento a la Economía, refleja la actividad económica del país.\n",
        "\n",
        " * Provisones: Reservas contables del banco para cubrir cartera riesgosa.              "
      ],
      "metadata": {
        "id": "Gc2NQIIBWEoB"
      }
    },
    {
      "cell_type": "markdown",
      "source": [
        "**4. Cargamos los datos**\n"
      ],
      "metadata": {
        "id": "-TYMh7e6bxJE"
      }
    },
    {
      "cell_type": "code",
      "source": [
        "pip install pmdarima"
      ],
      "metadata": {
        "id": "8GkUtHD3fzJS",
        "colab": {
          "base_uri": "https://localhost:8080/"
        },
        "outputId": "23d1af2d-4ba2-490c-dec1-3d002b34f70b"
      },
      "execution_count": 1,
      "outputs": [
        {
          "output_type": "stream",
          "name": "stdout",
          "text": [
            "Requirement already satisfied: pmdarima in /usr/local/lib/python3.12/dist-packages (2.0.4)\n",
            "Requirement already satisfied: joblib>=0.11 in /usr/local/lib/python3.12/dist-packages (from pmdarima) (1.5.2)\n",
            "Requirement already satisfied: Cython!=0.29.18,!=0.29.31,>=0.29 in /usr/local/lib/python3.12/dist-packages (from pmdarima) (3.0.12)\n",
            "Requirement already satisfied: numpy>=1.21.2 in /usr/local/lib/python3.12/dist-packages (from pmdarima) (1.26.0)\n",
            "Requirement already satisfied: pandas>=0.19 in /usr/local/lib/python3.12/dist-packages (from pmdarima) (2.2.2)\n",
            "Requirement already satisfied: scikit-learn>=0.22 in /usr/local/lib/python3.12/dist-packages (from pmdarima) (1.6.1)\n",
            "Requirement already satisfied: scipy>=1.3.2 in /usr/local/lib/python3.12/dist-packages (from pmdarima) (1.16.1)\n",
            "Requirement already satisfied: statsmodels>=0.13.2 in /usr/local/lib/python3.12/dist-packages (from pmdarima) (0.14.5)\n",
            "Requirement already satisfied: urllib3 in /usr/local/lib/python3.12/dist-packages (from pmdarima) (2.5.0)\n",
            "Requirement already satisfied: setuptools!=50.0.0,>=38.6.0 in /usr/local/lib/python3.12/dist-packages (from pmdarima) (75.2.0)\n",
            "Requirement already satisfied: packaging>=17.1 in /usr/local/lib/python3.12/dist-packages (from pmdarima) (25.0)\n",
            "Requirement already satisfied: python-dateutil>=2.8.2 in /usr/local/lib/python3.12/dist-packages (from pandas>=0.19->pmdarima) (2.9.0.post0)\n",
            "Requirement already satisfied: pytz>=2020.1 in /usr/local/lib/python3.12/dist-packages (from pandas>=0.19->pmdarima) (2025.2)\n",
            "Requirement already satisfied: tzdata>=2022.7 in /usr/local/lib/python3.12/dist-packages (from pandas>=0.19->pmdarima) (2025.2)\n",
            "Requirement already satisfied: threadpoolctl>=3.1.0 in /usr/local/lib/python3.12/dist-packages (from scikit-learn>=0.22->pmdarima) (3.6.0)\n",
            "Requirement already satisfied: patsy>=0.5.6 in /usr/local/lib/python3.12/dist-packages (from statsmodels>=0.13.2->pmdarima) (1.0.1)\n",
            "Requirement already satisfied: six>=1.5 in /usr/local/lib/python3.12/dist-packages (from python-dateutil>=2.8.2->pandas>=0.19->pmdarima) (1.17.0)\n"
          ]
        }
      ]
    },
    {
      "cell_type": "code",
      "source": [
        "pip install numpy==1.26"
      ],
      "metadata": {
        "colab": {
          "base_uri": "https://localhost:8080/"
        },
        "id": "0iNHZzCKgwvM",
        "outputId": "fbbb33ab-6905-49f5-8bf7-20107eec7a9f"
      },
      "execution_count": 2,
      "outputs": [
        {
          "output_type": "stream",
          "name": "stdout",
          "text": [
            "Requirement already satisfied: numpy==1.26 in /usr/local/lib/python3.12/dist-packages (1.26.0)\n"
          ]
        }
      ]
    },
    {
      "cell_type": "code",
      "source": [
        "import pandas as pd\n",
        "import matplotlib.pyplot as plt\n",
        "import pmdarima as pm\n",
        "\n",
        "\n",
        "df = pd.read_excel('Utilidad BDO.xlsx', index_col = 'Fecha') # Con indice de fechas ya que es una serie de tiempo\n",
        "\n",
        "\n",
        "\n"
      ],
      "metadata": {
        "id": "Dk_whdv4lbJl"
      },
      "execution_count": 3,
      "outputs": []
    },
    {
      "cell_type": "markdown",
      "source": [
        "Verificamos la base\n"
      ],
      "metadata": {
        "id": "eW_jIjLwlnhD"
      }
    },
    {
      "cell_type": "code",
      "source": [
        "df.head()\n"
      ],
      "metadata": {
        "colab": {
          "base_uri": "https://localhost:8080/",
          "height": 205
        },
        "id": "6bkq4OR4stKZ",
        "outputId": "2a0e9887-4faf-45f1-efc1-de901ecb541c"
      },
      "execution_count": 4,
      "outputs": [
        {
          "output_type": "execute_result",
          "data": {
            "text/plain": [
              "<bound method NDFrame.head of             BANCO DE OCCIDENTE S.A.  DESEMPLEO_URBANO_     TRM  \\\n",
              "Fecha                                                            \n",
              "2019-01-31             4.356486e+10           0.137393  3163.0   \n",
              "2019-02-28             3.675234e+10           0.124274  3072.0   \n",
              "2019-03-31             5.245682e+10           0.119751  3175.0   \n",
              "2019-04-30             4.937206e+10           0.111443  3248.0   \n",
              "2019-05-31             3.358929e+10           0.112390  3358.0   \n",
              "...                             ...                ...     ...   \n",
              "2025-02-28             4.657417e+10           0.132258  4200.0   \n",
              "2025-03-31             5.276859e+10           0.125758  4200.0   \n",
              "2025-04-30             5.610283e+10           0.126564  4200.0   \n",
              "2025-05-31             4.179832e+10           0.123923  4200.0   \n",
              "2025-06-30             5.588806e+10           0.125659  4192.0   \n",
              "\n",
              "            USURA_CONSUMO_COMERCIAL  TASA_INTERVENCION_BANREP    IBR_3M  \\\n",
              "Fecha                                                                     \n",
              "2019-01-31                 0.287400                    0.0425  0.041320   \n",
              "2019-02-28                 0.295500                    0.0425  0.041400   \n",
              "2019-03-31                 0.290600                    0.0425  0.041360   \n",
              "2019-04-30                 0.289800                    0.0425  0.041350   \n",
              "2019-05-31                 0.290100                    0.0425  0.041260   \n",
              "...                             ...                       ...       ...   \n",
              "2025-02-28                 0.273075                    0.0800  0.072711   \n",
              "2025-03-31                 0.267887                    0.0725  0.070528   \n",
              "2025-04-30                 0.264651                    0.0675  0.067683   \n",
              "2025-05-31                 0.261854                    0.0675  0.064023   \n",
              "2025-06-30                 0.259050                    0.0650  0.063013   \n",
              "\n",
              "              DTF_EA  INFLACION ANUAL  INFLACION MES         ISE  Provisones  \n",
              "Fecha                                                                         \n",
              "2019-01-31  0.046200         0.031477       0.006000  107.893100           0  \n",
              "2019-02-28  0.045700         0.030136       0.005765  108.865086           0  \n",
              "2019-03-31  0.045100         0.032199       0.004349  107.520459           0  \n",
              "2019-04-30  0.045400         0.032454       0.004920  108.992354           0  \n",
              "2019-05-31  0.044700         0.033078       0.003134  110.031760           0  \n",
              "...              ...              ...            ...         ...         ...  \n",
              "2025-02-28  0.075631         0.048467       0.007005  124.836302           0  \n",
              "2025-03-31  0.071127         0.047054       0.005690  123.822584           0  \n",
              "2025-04-30  0.067971         0.044535       0.003517  125.616814           0  \n",
              "2025-05-31  0.066256         0.042840       0.002586  125.428359           0  \n",
              "2025-06-30  0.064730         0.041434       0.001866  124.026019           0  \n",
              "\n",
              "[78 rows x 11 columns]>"
            ],
            "text/html": [
              "<div style=\"max-width:800px; border: 1px solid var(--colab-border-color);\"><style>\n",
              "      pre.function-repr-contents {\n",
              "        overflow-x: auto;\n",
              "        padding: 8px 12px;\n",
              "        max-height: 500px;\n",
              "      }\n",
              "\n",
              "      pre.function-repr-contents.function-repr-contents-collapsed {\n",
              "        cursor: pointer;\n",
              "        max-height: 100px;\n",
              "      }\n",
              "    </style>\n",
              "    <pre style=\"white-space: initial; background:\n",
              "         var(--colab-secondary-surface-color); padding: 8px 12px;\n",
              "         border-bottom: 1px solid var(--colab-border-color);\"><b>pandas.core.generic.NDFrame.head</b><br/>def head(n: int=5) -&gt; Self</pre><pre class=\"function-repr-contents function-repr-contents-collapsed\" style=\"\"><a class=\"filepath\" style=\"display:none\" href=\"#\">/usr/local/lib/python3.12/dist-packages/pandas/core/generic.py</a>Return the first `n` rows.\n",
              "\n",
              "This function returns the first `n` rows for the object based\n",
              "on position. It is useful for quickly testing if your object\n",
              "has the right type of data in it.\n",
              "\n",
              "For negative values of `n`, this function returns all rows except\n",
              "the last `|n|` rows, equivalent to ``df[:n]``.\n",
              "\n",
              "If n is larger than the number of rows, this function returns all rows.\n",
              "\n",
              "Parameters\n",
              "----------\n",
              "n : int, default 5\n",
              "    Number of rows to select.\n",
              "\n",
              "Returns\n",
              "-------\n",
              "same type as caller\n",
              "    The first `n` rows of the caller object.\n",
              "\n",
              "See Also\n",
              "--------\n",
              "DataFrame.tail: Returns the last `n` rows.\n",
              "\n",
              "Examples\n",
              "--------\n",
              "&gt;&gt;&gt; df = pd.DataFrame({&#x27;animal&#x27;: [&#x27;alligator&#x27;, &#x27;bee&#x27;, &#x27;falcon&#x27;, &#x27;lion&#x27;,\n",
              "...                    &#x27;monkey&#x27;, &#x27;parrot&#x27;, &#x27;shark&#x27;, &#x27;whale&#x27;, &#x27;zebra&#x27;]})\n",
              "&gt;&gt;&gt; df\n",
              "      animal\n",
              "0  alligator\n",
              "1        bee\n",
              "2     falcon\n",
              "3       lion\n",
              "4     monkey\n",
              "5     parrot\n",
              "6      shark\n",
              "7      whale\n",
              "8      zebra\n",
              "\n",
              "Viewing the first 5 lines\n",
              "\n",
              "&gt;&gt;&gt; df.head()\n",
              "      animal\n",
              "0  alligator\n",
              "1        bee\n",
              "2     falcon\n",
              "3       lion\n",
              "4     monkey\n",
              "\n",
              "Viewing the first `n` lines (three in this case)\n",
              "\n",
              "&gt;&gt;&gt; df.head(3)\n",
              "      animal\n",
              "0  alligator\n",
              "1        bee\n",
              "2     falcon\n",
              "\n",
              "For negative values of `n`\n",
              "\n",
              "&gt;&gt;&gt; df.head(-3)\n",
              "      animal\n",
              "0  alligator\n",
              "1        bee\n",
              "2     falcon\n",
              "3       lion\n",
              "4     monkey\n",
              "5     parrot</pre>\n",
              "      <script>\n",
              "      if (google.colab.kernel.accessAllowed && google.colab.files && google.colab.files.view) {\n",
              "        for (const element of document.querySelectorAll('.filepath')) {\n",
              "          element.style.display = 'block'\n",
              "          element.onclick = (event) => {\n",
              "            event.preventDefault();\n",
              "            event.stopPropagation();\n",
              "            google.colab.files.view(element.textContent, 5818);\n",
              "          };\n",
              "        }\n",
              "      }\n",
              "      for (const element of document.querySelectorAll('.function-repr-contents')) {\n",
              "        element.onclick = (event) => {\n",
              "          event.preventDefault();\n",
              "          event.stopPropagation();\n",
              "          element.classList.toggle('function-repr-contents-collapsed');\n",
              "        };\n",
              "      }\n",
              "      </script>\n",
              "      </div>"
            ]
          },
          "metadata": {},
          "execution_count": 4
        }
      ]
    },
    {
      "cell_type": "code",
      "source": [
        "df.info()\n"
      ],
      "metadata": {
        "colab": {
          "base_uri": "https://localhost:8080/"
        },
        "id": "TUqm1r4Qlp9F",
        "outputId": "08842c0a-2cce-433b-b8a0-df443bb4bfb2"
      },
      "execution_count": 5,
      "outputs": [
        {
          "output_type": "stream",
          "name": "stdout",
          "text": [
            "<class 'pandas.core.frame.DataFrame'>\n",
            "DatetimeIndex: 78 entries, 2019-01-31 to 2025-06-30\n",
            "Data columns (total 11 columns):\n",
            " #   Column                    Non-Null Count  Dtype  \n",
            "---  ------                    --------------  -----  \n",
            " 0   BANCO DE OCCIDENTE S.A.   78 non-null     float64\n",
            " 1   DESEMPLEO_URBANO_         78 non-null     float64\n",
            " 2   TRM                       78 non-null     float64\n",
            " 3   USURA_CONSUMO_COMERCIAL   78 non-null     float64\n",
            " 4   TASA_INTERVENCION_BANREP  78 non-null     float64\n",
            " 5   IBR_3M                    78 non-null     float64\n",
            " 6   DTF_EA                    78 non-null     float64\n",
            " 7   INFLACION ANUAL           78 non-null     float64\n",
            " 8   INFLACION MES             78 non-null     float64\n",
            " 9   ISE                       78 non-null     float64\n",
            " 10  Provisones                78 non-null     int64  \n",
            "dtypes: float64(10), int64(1)\n",
            "memory usage: 7.3 KB\n"
          ]
        }
      ]
    },
    {
      "cell_type": "markdown",
      "source": [
        "Podemos observar que no hay nulos. Procedemos a renombrar la variable 'BANCO DE OCCIDENTE S.A.' a utilidad"
      ],
      "metadata": {
        "id": "t5xKPFZHls7F"
      }
    },
    {
      "cell_type": "code",
      "source": [
        "df.columns"
      ],
      "metadata": {
        "colab": {
          "base_uri": "https://localhost:8080/"
        },
        "id": "dQJnAQB3m97Z",
        "outputId": "cba902e3-00df-42d4-bc2c-8d79fc040b30"
      },
      "execution_count": 6,
      "outputs": [
        {
          "output_type": "execute_result",
          "data": {
            "text/plain": [
              "Index(['BANCO DE OCCIDENTE S.A.', 'DESEMPLEO_URBANO_', 'TRM',\n",
              "       'USURA_CONSUMO_COMERCIAL', 'TASA_INTERVENCION_BANREP', 'IBR_3M',\n",
              "       'DTF_EA', 'INFLACION ANUAL', 'INFLACION MES', 'ISE', 'Provisones'],\n",
              "      dtype='object')"
            ]
          },
          "metadata": {},
          "execution_count": 6
        }
      ]
    },
    {
      "cell_type": "code",
      "source": [
        "df = df.rename(columns={'BANCO DE OCCIDENTE S.A.': 'UTILIDAD'})"
      ],
      "metadata": {
        "id": "OXJvib_al1Dq"
      },
      "execution_count": 7,
      "outputs": []
    },
    {
      "cell_type": "markdown",
      "source": [
        "**5. Empezamos con el análisis exploratorio debido a que los datos ya se encuentran limpios.**"
      ],
      "metadata": {
        "id": "t-jBwtQ3mR10"
      }
    },
    {
      "cell_type": "code",
      "source": [
        "df.describe()"
      ],
      "metadata": {
        "colab": {
          "base_uri": "https://localhost:8080/",
          "height": 329
        },
        "id": "W5j19N38m0LH",
        "outputId": "5340f52c-cd8f-4dc1-e59a-c8aa794e3271"
      },
      "execution_count": 8,
      "outputs": [
        {
          "output_type": "execute_result",
          "data": {
            "text/plain": [
              "           UTILIDAD  DESEMPLEO_URBANO_          TRM  USURA_CONSUMO_COMERCIAL  \\\n",
              "count  7.800000e+01          78.000000    78.000000                78.000000   \n",
              "mean   3.843242e+10           0.128286  3924.854744                 0.310746   \n",
              "std    1.501743e+10           0.037498   413.671492                 0.060673   \n",
              "min    6.753246e+09           0.086550  3072.000000                 0.256200   \n",
              "25%    2.983164e+10           0.103531  3716.000000                 0.271500   \n",
              "50%    3.780270e+10           0.115692  3913.000000                 0.286200   \n",
              "75%    4.979885e+10           0.140803  4191.750000                 0.332475   \n",
              "max    7.805879e+10           0.248705  4819.000000                 0.470900   \n",
              "\n",
              "       TASA_INTERVENCION_BANREP     IBR_3M     DTF_EA  INFLACION ANUAL  \\\n",
              "count                 78.000000  78.000000  78.000000        78.000000   \n",
              "mean                   0.068205   0.066893   0.069319         0.062356   \n",
              "std                    0.042684   0.040134   0.040562         0.036385   \n",
              "min                    0.017500   0.016590   0.017400         0.014873   \n",
              "25%                    0.033750   0.030817   0.039019         0.035338   \n",
              "50%                    0.046250   0.061690   0.051758         0.050477   \n",
              "75%                    0.111875   0.109691   0.105066         0.091899   \n",
              "max                    0.132500   0.125610   0.143000         0.133408   \n",
              "\n",
              "       INFLACION MES         ISE  Provisones  \n",
              "count      78.000000   78.000000   78.000000  \n",
              "mean        0.005162  114.949408    0.089744  \n",
              "std         0.004294    8.387085    0.287664  \n",
              "min        -0.003702   86.895520    0.000000  \n",
              "25%         0.002530  109.890855    0.000000  \n",
              "50%         0.004449  118.468520    0.000000  \n",
              "75%         0.007036  121.027101    0.000000  \n",
              "max         0.017774  125.616814    1.000000  "
            ],
            "text/html": [
              "\n",
              "  <div id=\"df-ca78205c-8b30-4385-846f-5c23d7e6fb93\" class=\"colab-df-container\">\n",
              "    <div>\n",
              "<style scoped>\n",
              "    .dataframe tbody tr th:only-of-type {\n",
              "        vertical-align: middle;\n",
              "    }\n",
              "\n",
              "    .dataframe tbody tr th {\n",
              "        vertical-align: top;\n",
              "    }\n",
              "\n",
              "    .dataframe thead th {\n",
              "        text-align: right;\n",
              "    }\n",
              "</style>\n",
              "<table border=\"1\" class=\"dataframe\">\n",
              "  <thead>\n",
              "    <tr style=\"text-align: right;\">\n",
              "      <th></th>\n",
              "      <th>UTILIDAD</th>\n",
              "      <th>DESEMPLEO_URBANO_</th>\n",
              "      <th>TRM</th>\n",
              "      <th>USURA_CONSUMO_COMERCIAL</th>\n",
              "      <th>TASA_INTERVENCION_BANREP</th>\n",
              "      <th>IBR_3M</th>\n",
              "      <th>DTF_EA</th>\n",
              "      <th>INFLACION ANUAL</th>\n",
              "      <th>INFLACION MES</th>\n",
              "      <th>ISE</th>\n",
              "      <th>Provisones</th>\n",
              "    </tr>\n",
              "  </thead>\n",
              "  <tbody>\n",
              "    <tr>\n",
              "      <th>count</th>\n",
              "      <td>7.800000e+01</td>\n",
              "      <td>78.000000</td>\n",
              "      <td>78.000000</td>\n",
              "      <td>78.000000</td>\n",
              "      <td>78.000000</td>\n",
              "      <td>78.000000</td>\n",
              "      <td>78.000000</td>\n",
              "      <td>78.000000</td>\n",
              "      <td>78.000000</td>\n",
              "      <td>78.000000</td>\n",
              "      <td>78.000000</td>\n",
              "    </tr>\n",
              "    <tr>\n",
              "      <th>mean</th>\n",
              "      <td>3.843242e+10</td>\n",
              "      <td>0.128286</td>\n",
              "      <td>3924.854744</td>\n",
              "      <td>0.310746</td>\n",
              "      <td>0.068205</td>\n",
              "      <td>0.066893</td>\n",
              "      <td>0.069319</td>\n",
              "      <td>0.062356</td>\n",
              "      <td>0.005162</td>\n",
              "      <td>114.949408</td>\n",
              "      <td>0.089744</td>\n",
              "    </tr>\n",
              "    <tr>\n",
              "      <th>std</th>\n",
              "      <td>1.501743e+10</td>\n",
              "      <td>0.037498</td>\n",
              "      <td>413.671492</td>\n",
              "      <td>0.060673</td>\n",
              "      <td>0.042684</td>\n",
              "      <td>0.040134</td>\n",
              "      <td>0.040562</td>\n",
              "      <td>0.036385</td>\n",
              "      <td>0.004294</td>\n",
              "      <td>8.387085</td>\n",
              "      <td>0.287664</td>\n",
              "    </tr>\n",
              "    <tr>\n",
              "      <th>min</th>\n",
              "      <td>6.753246e+09</td>\n",
              "      <td>0.086550</td>\n",
              "      <td>3072.000000</td>\n",
              "      <td>0.256200</td>\n",
              "      <td>0.017500</td>\n",
              "      <td>0.016590</td>\n",
              "      <td>0.017400</td>\n",
              "      <td>0.014873</td>\n",
              "      <td>-0.003702</td>\n",
              "      <td>86.895520</td>\n",
              "      <td>0.000000</td>\n",
              "    </tr>\n",
              "    <tr>\n",
              "      <th>25%</th>\n",
              "      <td>2.983164e+10</td>\n",
              "      <td>0.103531</td>\n",
              "      <td>3716.000000</td>\n",
              "      <td>0.271500</td>\n",
              "      <td>0.033750</td>\n",
              "      <td>0.030817</td>\n",
              "      <td>0.039019</td>\n",
              "      <td>0.035338</td>\n",
              "      <td>0.002530</td>\n",
              "      <td>109.890855</td>\n",
              "      <td>0.000000</td>\n",
              "    </tr>\n",
              "    <tr>\n",
              "      <th>50%</th>\n",
              "      <td>3.780270e+10</td>\n",
              "      <td>0.115692</td>\n",
              "      <td>3913.000000</td>\n",
              "      <td>0.286200</td>\n",
              "      <td>0.046250</td>\n",
              "      <td>0.061690</td>\n",
              "      <td>0.051758</td>\n",
              "      <td>0.050477</td>\n",
              "      <td>0.004449</td>\n",
              "      <td>118.468520</td>\n",
              "      <td>0.000000</td>\n",
              "    </tr>\n",
              "    <tr>\n",
              "      <th>75%</th>\n",
              "      <td>4.979885e+10</td>\n",
              "      <td>0.140803</td>\n",
              "      <td>4191.750000</td>\n",
              "      <td>0.332475</td>\n",
              "      <td>0.111875</td>\n",
              "      <td>0.109691</td>\n",
              "      <td>0.105066</td>\n",
              "      <td>0.091899</td>\n",
              "      <td>0.007036</td>\n",
              "      <td>121.027101</td>\n",
              "      <td>0.000000</td>\n",
              "    </tr>\n",
              "    <tr>\n",
              "      <th>max</th>\n",
              "      <td>7.805879e+10</td>\n",
              "      <td>0.248705</td>\n",
              "      <td>4819.000000</td>\n",
              "      <td>0.470900</td>\n",
              "      <td>0.132500</td>\n",
              "      <td>0.125610</td>\n",
              "      <td>0.143000</td>\n",
              "      <td>0.133408</td>\n",
              "      <td>0.017774</td>\n",
              "      <td>125.616814</td>\n",
              "      <td>1.000000</td>\n",
              "    </tr>\n",
              "  </tbody>\n",
              "</table>\n",
              "</div>\n",
              "    <div class=\"colab-df-buttons\">\n",
              "\n",
              "  <div class=\"colab-df-container\">\n",
              "    <button class=\"colab-df-convert\" onclick=\"convertToInteractive('df-ca78205c-8b30-4385-846f-5c23d7e6fb93')\"\n",
              "            title=\"Convert this dataframe to an interactive table.\"\n",
              "            style=\"display:none;\">\n",
              "\n",
              "  <svg xmlns=\"http://www.w3.org/2000/svg\" height=\"24px\" viewBox=\"0 -960 960 960\">\n",
              "    <path d=\"M120-120v-720h720v720H120Zm60-500h600v-160H180v160Zm220 220h160v-160H400v160Zm0 220h160v-160H400v160ZM180-400h160v-160H180v160Zm440 0h160v-160H620v160ZM180-180h160v-160H180v160Zm440 0h160v-160H620v160Z\"/>\n",
              "  </svg>\n",
              "    </button>\n",
              "\n",
              "  <style>\n",
              "    .colab-df-container {\n",
              "      display:flex;\n",
              "      gap: 12px;\n",
              "    }\n",
              "\n",
              "    .colab-df-convert {\n",
              "      background-color: #E8F0FE;\n",
              "      border: none;\n",
              "      border-radius: 50%;\n",
              "      cursor: pointer;\n",
              "      display: none;\n",
              "      fill: #1967D2;\n",
              "      height: 32px;\n",
              "      padding: 0 0 0 0;\n",
              "      width: 32px;\n",
              "    }\n",
              "\n",
              "    .colab-df-convert:hover {\n",
              "      background-color: #E2EBFA;\n",
              "      box-shadow: 0px 1px 2px rgba(60, 64, 67, 0.3), 0px 1px 3px 1px rgba(60, 64, 67, 0.15);\n",
              "      fill: #174EA6;\n",
              "    }\n",
              "\n",
              "    .colab-df-buttons div {\n",
              "      margin-bottom: 4px;\n",
              "    }\n",
              "\n",
              "    [theme=dark] .colab-df-convert {\n",
              "      background-color: #3B4455;\n",
              "      fill: #D2E3FC;\n",
              "    }\n",
              "\n",
              "    [theme=dark] .colab-df-convert:hover {\n",
              "      background-color: #434B5C;\n",
              "      box-shadow: 0px 1px 3px 1px rgba(0, 0, 0, 0.15);\n",
              "      filter: drop-shadow(0px 1px 2px rgba(0, 0, 0, 0.3));\n",
              "      fill: #FFFFFF;\n",
              "    }\n",
              "  </style>\n",
              "\n",
              "    <script>\n",
              "      const buttonEl =\n",
              "        document.querySelector('#df-ca78205c-8b30-4385-846f-5c23d7e6fb93 button.colab-df-convert');\n",
              "      buttonEl.style.display =\n",
              "        google.colab.kernel.accessAllowed ? 'block' : 'none';\n",
              "\n",
              "      async function convertToInteractive(key) {\n",
              "        const element = document.querySelector('#df-ca78205c-8b30-4385-846f-5c23d7e6fb93');\n",
              "        const dataTable =\n",
              "          await google.colab.kernel.invokeFunction('convertToInteractive',\n",
              "                                                    [key], {});\n",
              "        if (!dataTable) return;\n",
              "\n",
              "        const docLinkHtml = 'Like what you see? Visit the ' +\n",
              "          '<a target=\"_blank\" href=https://colab.research.google.com/notebooks/data_table.ipynb>data table notebook</a>'\n",
              "          + ' to learn more about interactive tables.';\n",
              "        element.innerHTML = '';\n",
              "        dataTable['output_type'] = 'display_data';\n",
              "        await google.colab.output.renderOutput(dataTable, element);\n",
              "        const docLink = document.createElement('div');\n",
              "        docLink.innerHTML = docLinkHtml;\n",
              "        element.appendChild(docLink);\n",
              "      }\n",
              "    </script>\n",
              "  </div>\n",
              "\n",
              "\n",
              "    <div id=\"df-5c473c2e-14be-4fe6-995f-b711fe1e2348\">\n",
              "      <button class=\"colab-df-quickchart\" onclick=\"quickchart('df-5c473c2e-14be-4fe6-995f-b711fe1e2348')\"\n",
              "                title=\"Suggest charts\"\n",
              "                style=\"display:none;\">\n",
              "\n",
              "<svg xmlns=\"http://www.w3.org/2000/svg\" height=\"24px\"viewBox=\"0 0 24 24\"\n",
              "     width=\"24px\">\n",
              "    <g>\n",
              "        <path d=\"M19 3H5c-1.1 0-2 .9-2 2v14c0 1.1.9 2 2 2h14c1.1 0 2-.9 2-2V5c0-1.1-.9-2-2-2zM9 17H7v-7h2v7zm4 0h-2V7h2v10zm4 0h-2v-4h2v4z\"/>\n",
              "    </g>\n",
              "</svg>\n",
              "      </button>\n",
              "\n",
              "<style>\n",
              "  .colab-df-quickchart {\n",
              "      --bg-color: #E8F0FE;\n",
              "      --fill-color: #1967D2;\n",
              "      --hover-bg-color: #E2EBFA;\n",
              "      --hover-fill-color: #174EA6;\n",
              "      --disabled-fill-color: #AAA;\n",
              "      --disabled-bg-color: #DDD;\n",
              "  }\n",
              "\n",
              "  [theme=dark] .colab-df-quickchart {\n",
              "      --bg-color: #3B4455;\n",
              "      --fill-color: #D2E3FC;\n",
              "      --hover-bg-color: #434B5C;\n",
              "      --hover-fill-color: #FFFFFF;\n",
              "      --disabled-bg-color: #3B4455;\n",
              "      --disabled-fill-color: #666;\n",
              "  }\n",
              "\n",
              "  .colab-df-quickchart {\n",
              "    background-color: var(--bg-color);\n",
              "    border: none;\n",
              "    border-radius: 50%;\n",
              "    cursor: pointer;\n",
              "    display: none;\n",
              "    fill: var(--fill-color);\n",
              "    height: 32px;\n",
              "    padding: 0;\n",
              "    width: 32px;\n",
              "  }\n",
              "\n",
              "  .colab-df-quickchart:hover {\n",
              "    background-color: var(--hover-bg-color);\n",
              "    box-shadow: 0 1px 2px rgba(60, 64, 67, 0.3), 0 1px 3px 1px rgba(60, 64, 67, 0.15);\n",
              "    fill: var(--button-hover-fill-color);\n",
              "  }\n",
              "\n",
              "  .colab-df-quickchart-complete:disabled,\n",
              "  .colab-df-quickchart-complete:disabled:hover {\n",
              "    background-color: var(--disabled-bg-color);\n",
              "    fill: var(--disabled-fill-color);\n",
              "    box-shadow: none;\n",
              "  }\n",
              "\n",
              "  .colab-df-spinner {\n",
              "    border: 2px solid var(--fill-color);\n",
              "    border-color: transparent;\n",
              "    border-bottom-color: var(--fill-color);\n",
              "    animation:\n",
              "      spin 1s steps(1) infinite;\n",
              "  }\n",
              "\n",
              "  @keyframes spin {\n",
              "    0% {\n",
              "      border-color: transparent;\n",
              "      border-bottom-color: var(--fill-color);\n",
              "      border-left-color: var(--fill-color);\n",
              "    }\n",
              "    20% {\n",
              "      border-color: transparent;\n",
              "      border-left-color: var(--fill-color);\n",
              "      border-top-color: var(--fill-color);\n",
              "    }\n",
              "    30% {\n",
              "      border-color: transparent;\n",
              "      border-left-color: var(--fill-color);\n",
              "      border-top-color: var(--fill-color);\n",
              "      border-right-color: var(--fill-color);\n",
              "    }\n",
              "    40% {\n",
              "      border-color: transparent;\n",
              "      border-right-color: var(--fill-color);\n",
              "      border-top-color: var(--fill-color);\n",
              "    }\n",
              "    60% {\n",
              "      border-color: transparent;\n",
              "      border-right-color: var(--fill-color);\n",
              "    }\n",
              "    80% {\n",
              "      border-color: transparent;\n",
              "      border-right-color: var(--fill-color);\n",
              "      border-bottom-color: var(--fill-color);\n",
              "    }\n",
              "    90% {\n",
              "      border-color: transparent;\n",
              "      border-bottom-color: var(--fill-color);\n",
              "    }\n",
              "  }\n",
              "</style>\n",
              "\n",
              "      <script>\n",
              "        async function quickchart(key) {\n",
              "          const quickchartButtonEl =\n",
              "            document.querySelector('#' + key + ' button');\n",
              "          quickchartButtonEl.disabled = true;  // To prevent multiple clicks.\n",
              "          quickchartButtonEl.classList.add('colab-df-spinner');\n",
              "          try {\n",
              "            const charts = await google.colab.kernel.invokeFunction(\n",
              "                'suggestCharts', [key], {});\n",
              "          } catch (error) {\n",
              "            console.error('Error during call to suggestCharts:', error);\n",
              "          }\n",
              "          quickchartButtonEl.classList.remove('colab-df-spinner');\n",
              "          quickchartButtonEl.classList.add('colab-df-quickchart-complete');\n",
              "        }\n",
              "        (() => {\n",
              "          let quickchartButtonEl =\n",
              "            document.querySelector('#df-5c473c2e-14be-4fe6-995f-b711fe1e2348 button');\n",
              "          quickchartButtonEl.style.display =\n",
              "            google.colab.kernel.accessAllowed ? 'block' : 'none';\n",
              "        })();\n",
              "      </script>\n",
              "    </div>\n",
              "\n",
              "    </div>\n",
              "  </div>\n"
            ],
            "application/vnd.google.colaboratory.intrinsic+json": {
              "type": "dataframe",
              "summary": "{\n  \"name\": \"df\",\n  \"rows\": 8,\n  \"fields\": [\n    {\n      \"column\": \"UTILIDAD\",\n      \"properties\": {\n        \"dtype\": \"number\",\n        \"std\": 25263623398.881607,\n        \"min\": 78.0,\n        \"max\": 78058787185.04895,\n        \"num_unique_values\": 8,\n        \"samples\": [\n          38432415641.08137,\n          37802698653.23456,\n          78.0\n        ],\n        \"semantic_type\": \"\",\n        \"description\": \"\"\n      }\n    },\n    {\n      \"column\": \"DESEMPLEO_URBANO_\",\n      \"properties\": {\n        \"dtype\": \"number\",\n        \"std\": 27.533739481775452,\n        \"min\": 0.03749827874290746,\n        \"max\": 78.0,\n        \"num_unique_values\": 8,\n        \"samples\": [\n          0.1282864283006586,\n          0.1156921835,\n          78.0\n        ],\n        \"semantic_type\": \"\",\n        \"description\": \"\"\n      }\n    },\n    {\n      \"column\": \"TRM\",\n      \"properties\": {\n        \"dtype\": \"number\",\n        \"std\": 1779.2822253351587,\n        \"min\": 78.0,\n        \"max\": 4819.0,\n        \"num_unique_values\": 8,\n        \"samples\": [\n          3924.8547435897435,\n          3913.0,\n          78.0\n        ],\n        \"semantic_type\": \"\",\n        \"description\": \"\"\n      }\n    },\n    {\n      \"column\": \"USURA_CONSUMO_COMERCIAL\",\n      \"properties\": {\n        \"dtype\": \"number\",\n        \"std\": 27.476951103234782,\n        \"min\": 0.06067284863290021,\n        \"max\": 78.0,\n        \"num_unique_values\": 8,\n        \"samples\": [\n          0.3107462775915431,\n          0.2862,\n          78.0\n        ],\n        \"semantic_type\": \"\",\n        \"description\": \"\"\n      }\n    },\n    {\n      \"column\": \"TASA_INTERVENCION_BANREP\",\n      \"properties\": {\n        \"dtype\": \"number\",\n        \"std\": 27.55432455372821,\n        \"min\": 0.0175,\n        \"max\": 78.0,\n        \"num_unique_values\": 8,\n        \"samples\": [\n          0.06820512820512822,\n          0.04625,\n          78.0\n        ],\n        \"semantic_type\": \"\",\n        \"description\": \"\"\n      }\n    },\n    {\n      \"column\": \"IBR_3M\",\n      \"properties\": {\n        \"dtype\": \"number\",\n        \"std\": 27.554389466563688,\n        \"min\": 0.01659,\n        \"max\": 78.0,\n        \"num_unique_values\": 8,\n        \"samples\": [\n          0.06689271349202146,\n          0.061689999999999995,\n          78.0\n        ],\n        \"semantic_type\": \"\",\n        \"description\": \"\"\n      }\n    },\n    {\n      \"column\": \"DTF_EA\",\n      \"properties\": {\n        \"dtype\": \"number\",\n        \"std\": 27.55365113634872,\n        \"min\": 0.0174,\n        \"max\": 78.0,\n        \"num_unique_values\": 8,\n        \"samples\": [\n          0.06931935262806509,\n          0.051758279500000004,\n          78.0\n        ],\n        \"semantic_type\": \"\",\n        \"description\": \"\"\n      }\n    },\n    {\n      \"column\": \"INFLACION ANUAL\",\n      \"properties\": {\n        \"dtype\": \"number\",\n        \"std\": 27.55573720469542,\n        \"min\": 0.014873479,\n        \"max\": 78.0,\n        \"num_unique_values\": 8,\n        \"samples\": [\n          0.06235571916578108,\n          0.05047652586770286,\n          78.0\n        ],\n        \"semantic_type\": \"\",\n        \"description\": \"\"\n      }\n    },\n    {\n      \"column\": \"INFLACION MES\",\n      \"properties\": {\n        \"dtype\": \"number\",\n        \"std\": 27.575268902188867,\n        \"min\": -0.003701595,\n        \"max\": 78.0,\n        \"num_unique_values\": 8,\n        \"samples\": [\n          0.005162331774401574,\n          0.0044490104999999995,\n          78.0\n        ],\n        \"semantic_type\": \"\",\n        \"description\": \"\"\n      }\n    },\n    {\n      \"column\": \"ISE\",\n      \"properties\": {\n        \"dtype\": \"number\",\n        \"std\": 38.988017386731975,\n        \"min\": 8.387084554922252,\n        \"max\": 125.61681449579606,\n        \"num_unique_values\": 8,\n        \"samples\": [\n          114.94940833570324,\n          118.46852023258342,\n          78.0\n        ],\n        \"semantic_type\": \"\",\n        \"description\": \"\"\n      }\n    },\n    {\n      \"column\": \"Provisones\",\n      \"properties\": {\n        \"dtype\": \"number\",\n        \"std\": 27.509723475356793,\n        \"min\": 0.0,\n        \"max\": 78.0,\n        \"num_unique_values\": 5,\n        \"samples\": [\n          0.08974358974358974,\n          1.0,\n          0.28766401017607807\n        ],\n        \"semantic_type\": \"\",\n        \"description\": \"\"\n      }\n    }\n  ]\n}"
            }
          },
          "metadata": {},
          "execution_count": 8
        }
      ]
    },
    {
      "cell_type": "code",
      "source": [
        "import seaborn as sns\n",
        "\n",
        "df.corr()\n",
        "# Calcular matriz de correlaciones\n",
        "corr = df.corr()\n",
        "\n",
        "# Crear heatmap\n",
        "plt.figure(figsize=(8,6))\n",
        "sns.heatmap(corr, annot=True, cmap=\"coolwarm\", fmt=\".2f\", linewidths=0.5)\n",
        "plt.title(\"Mapa de calor de correlaciones\")\n",
        "plt.show()"
      ],
      "metadata": {
        "colab": {
          "base_uri": "https://localhost:8080/",
          "height": 645
        },
        "id": "QpYPyM5-m2vh",
        "outputId": "8786c2df-41ee-4205-c567-4c5d0960709f"
      },
      "execution_count": 11,
      "outputs": [
        {
          "output_type": "display_data",
          "data": {
            "text/plain": [
              "<Figure size 800x600 with 2 Axes>"
            ],
            "image/png": "[encoded data removed]"
          },
          "metadata": {}
        }
      ]
    },
    {
      "cell_type": "markdown",
      "source": [
        "Graficamos mimso eje para ver si encontramos relaciones que nos pueden dar pistas de como modelar la variable"
      ],
      "metadata": {
        "id": "LQJh8bvmoSLJ"
      }
    },
    {
      "cell_type": "code",
      "source": [
        "df['UTILIDAD'].plot()\n",
        "plt.show()\n",
        "\n",
        "\n",
        "df['TRM'].plot()\n",
        "plt.show()\n",
        "\n",
        "df['TASA_INTERVENCION_BANREP'].plot()\n",
        "plt.show()\n",
        "\n",
        "df['ISE'].plot()\n",
        "plt.show()\n",
        "\n"
      ],
      "metadata": {
        "id": "JtK1-4m2mRE8"
      },
      "execution_count": null,
      "outputs": []
    },
    {
      "cell_type": "markdown",
      "source": [
        "Empezamos experimentando con los datos, ya que el analisis exploratorio no es suficientmente conclusivo"
      ],
      "metadata": {
        "id": "BIbbRMCwpqG7"
      }
    },
    {
      "cell_type": "code",
      "source": [
        "from sklearn.model_selection import train_test_split\n",
        "objetivo = 'UTILIDAD'\n",
        "exog = ['TASA_INTERVENCION_BANREP', 'ISE', 'TRM']\n",
        "\n",
        "\n",
        "x_train, x_test, y_train, y_test = train_test_split(df[exog], df[objetivo], shuffle = False, test_size= 0.2)\n",
        "\n",
        "\n",
        "\n"
      ],
      "metadata": {
        "id": "-1NeS27TpO_v"
      },
      "execution_count": null,
      "outputs": []
    },
    {
      "cell_type": "markdown",
      "source": [
        "Importamos una regresión lineal como primer paso y tener un baseline para comparar modelos mas complejos"
      ],
      "metadata": {
        "id": "5te7nJm2qbJX"
      }
    },
    {
      "cell_type": "code",
      "source": [
        "from sklearn.linear_model import LinearRegression\n",
        "\n",
        "modelo_reg = LinearRegression()\n",
        "\n",
        "modelo_reg.fit(x_train,y_train)\n",
        "\n",
        "print(modelo_reg.coef_) # Inspeccionamos los coeficientes del modelo\n",
        "\n",
        "\n"
      ],
      "metadata": {
        "id": "OE3TpT0NqYZu"
      },
      "execution_count": null,
      "outputs": []
    },
    {
      "cell_type": "code",
      "source": [
        "pred_modelo = pd.Series(modelo_reg.predict(x_test), index = x_test.index)\n",
        "pred_modelo.tail()"
      ],
      "metadata": {
        "id": "g5V06rX9q6gW"
      },
      "execution_count": null,
      "outputs": []
    },
    {
      "cell_type": "markdown",
      "source": [
        "El modelo de regresión para predecir un promedio de la utilidad, y levenmente parece capturar una tendencia."
      ],
      "metadata": {
        "id": "C7e7F0YMrWjl"
      }
    },
    {
      "cell_type": "code",
      "source": [
        "df['UTILIDAD'].plot()\n",
        "pred_modelo.plot()\n",
        "plt.show()"
      ],
      "metadata": {
        "id": "mzEae6HYrJrl"
      },
      "execution_count": null,
      "outputs": []
    },
    {
      "cell_type": "markdown",
      "source": [
        "Procedemos calcular algunas metricas para tener punto de comparación en el futuro"
      ],
      "metadata": {
        "id": "9fziNj4irhhF"
      }
    },
    {
      "cell_type": "code",
      "source": [
        "from sklearn.metrics import root_mean_squared_error, mean_absolute_percentage_error, r2_score\n",
        "\n",
        "rmse = root_mean_squared_error(y_test, pred_modelo)\n",
        "mape = mean_absolute_percentage_error(y_test, pred_modelo)\n",
        "r2 = r2_score(y_test, pred_modelo)\n",
        "\n",
        "print(f'rmse del modelo: {rmse}')\n",
        "print(f'mape del modelo: {mape}')\n",
        "print(f'R^2 del modelo : {r2}')\n",
        "\n"
      ],
      "metadata": {
        "id": "yPHbuXizrhSc"
      },
      "execution_count": null,
      "outputs": []
    },
    {
      "cell_type": "markdown",
      "source": [
        "Debido a que el resultado del modelo no es satisfactorio empezamos utilizando técnicas de ingenieria de características. El primer paso será aplicar la transformación logrítmica a la variable objetivo para ver si esto permite mejorar los resultados"
      ],
      "metadata": {
        "id": "Wzv-79GwszOL"
      }
    },
    {
      "cell_type": "markdown",
      "source": [],
      "metadata": {
        "id": "bmByKdj3t1tG"
      }
    },
    {
      "cell_type": "code",
      "source": [
        "import numpy as np\n",
        "df['log_UTILIDAD'] = np.log(df['UTILIDAD'])"
      ],
      "metadata": {
        "id": "3-JNiBYktELl"
      },
      "execution_count": null,
      "outputs": []
    },
    {
      "cell_type": "code",
      "source": [
        "objetivo = 'log_UTILIDAD'\n",
        "exog = ['TASA_INTERVENCION_BANREP', 'ISE', 'Provisones']\n",
        "\n",
        "x_train, x_test, y_train, y_test = train_test_split(df[exog], df[objetivo], shuffle = False, test_size= 0.20)\n",
        "\n",
        "modelo_reg = LinearRegression()\n",
        "\n",
        "modelo_reg.fit(x_train,y_train)\n",
        "\n",
        "pred_modelo = pd.Series(modelo_reg.predict(x_test), index = x_test.index)\n",
        "\n",
        "rmse = root_mean_squared_error(np.exp(y_test), np.exp(pred_modelo))\n",
        "mape = mean_absolute_percentage_error(np.exp(y_test), np.exp(pred_modelo))\n",
        "r2 = r2_score(y_test, pred_modelo)\n",
        "\n",
        "print(f'rmse del modelo: {rmse}')\n",
        "print(f'mape del modelo: {mape}')\n",
        "\n",
        "df['UTILIDAD'].plot()\n",
        "np.exp(pred_modelo).plot()\n",
        "plt.show()"
      ],
      "metadata": {
        "id": "TuNcDxijtV-J"
      },
      "execution_count": null,
      "outputs": []
    },
    {
      "cell_type": "markdown",
      "source": [
        "Incluimos variables dummy mensuales para ver si podemos capturar patrones mensuales dentro de los datos para capturar mayor la variabilidad de la serie."
      ],
      "metadata": {
        "id": "OyUaLUmudIwq"
      }
    },
    {
      "cell_type": "code",
      "source": [
        "df['Mes'] = df.index.month\n",
        "\n",
        "df['Mes'].head()\n",
        "\n",
        "dummies = pd.get_dummies(df['Mes'], dtype= 'int', drop_first= True)\n",
        "\n",
        "df = pd.concat([df, dummies], axis = 1)\n"
      ],
      "metadata": {
        "id": "mLTmHyOIjo7N"
      },
      "execution_count": null,
      "outputs": []
    },
    {
      "cell_type": "code",
      "source": [
        "df.columns = df.columns.astype('str')\n",
        "df.columns"
      ],
      "metadata": {
        "id": "25aoyloQkus_"
      },
      "execution_count": null,
      "outputs": []
    },
    {
      "cell_type": "code",
      "source": [
        "\n",
        "objetivo = 'log_UTILIDAD'\n",
        "exog = ['IBR_3M', 'Provisones','ISE','2', '3',\n",
        "       '4', '5', '6', '7', '8', '9', '10', '11', '12' ]\n",
        "\n",
        "x_train, x_test, y_train, y_test = train_test_split(df[exog], df[objetivo], shuffle = False, test_size= 0.20)\n",
        "\n",
        "modelo_reg = LinearRegression()\n",
        "\n",
        "modelo_reg.fit(x_train,y_train)\n",
        "\n",
        "pred_modelo = pd.Series(modelo_reg.predict(x_test), index = x_test.index)\n",
        "\n",
        "df['UTILIDAD'].plot()\n",
        "np.exp(pred_modelo).plot()\n",
        "plt.show()\n",
        "\n",
        "rmse = root_mean_squared_error(np.exp(y_test), np.exp(pred_modelo))\n",
        "mape = mean_absolute_percentage_error(np.exp(y_test), np.exp(pred_modelo))\n",
        "r2 = r2_score(y_test, pred_modelo)\n",
        "\n",
        "print(f'rmse del modelo: {rmse}')\n",
        "print(f'mape del modelo: {mape}')\n"
      ],
      "metadata": {
        "id": "VwLPv_9uynX_"
      },
      "execution_count": null,
      "outputs": []
    },
    {
      "cell_type": "code",
      "source": [
        "\n",
        "\n",
        "objetivo = 'log_UTILIDAD'\n",
        "exog = ['IBR_3M','Provisones','2', '3',\n",
        "       '4', '5', '6', '7', '8', '9', '10', '11', '12' ]\n",
        "\n",
        "x_train, x_test, y_train, y_test = train_test_split(df[exog], df[objetivo], shuffle = False, test_size= 0.20)\n",
        "\n",
        "modelo_arima = pm.auto_arima(y_train, x_train, start_p=0, start_q=0,\n",
        "                             max_p=5, max_q=5, trace=True,\n",
        "                             error_action='ignore',\n",
        "                             suppress_warnings=True,\n",
        "                             stepwise=False)"
      ],
      "metadata": {
        "collapsed": true,
        "id": "4Jn914Yfei6M"
      },
      "execution_count": null,
      "outputs": []
    },
    {
      "cell_type": "code",
      "source": [
        "x_test"
      ],
      "metadata": {
        "id": "PfjEKZ877YgO"
      },
      "execution_count": null,
      "outputs": []
    },
    {
      "cell_type": "code",
      "source": [
        "pred_modelo =pd.Series(modelo_arima.predict(n_periods = len(x_test), X = x_test), index = x_test.index)"
      ],
      "metadata": {
        "id": "ojym3LrchypN"
      },
      "execution_count": null,
      "outputs": []
    },
    {
      "cell_type": "code",
      "source": [
        "df['UTILIDAD'].plot()\n",
        "np.exp(pred_modelo).plot()\n",
        "plt.show()"
      ],
      "metadata": {
        "id": "wX36XdABiHXr"
      },
      "execution_count": null,
      "outputs": []
    },
    {
      "cell_type": "code",
      "source": [
        "rmse = root_mean_squared_error(np.exp(y_test), np.exp(pred_modelo))\n",
        "mape = mean_absolute_percentage_error(np.exp(y_test), np.exp(pred_modelo))\n",
        "r2 = r2_score(y_test, pred_modelo)\n",
        "\n",
        "print(f'rmse del modelo: {rmse}')\n",
        "print(f'mape del modelo: {mape}')\n"
      ],
      "metadata": {
        "id": "V_TEaDRWxIrK"
      },
      "execution_count": null,
      "outputs": []
    },
    {
      "cell_type": "markdown",
      "source": [
        "Probamos de nuevo una serie de modelos utilizando esta misma combinación de variables exógenas"
      ],
      "metadata": {
        "id": "Kx1UQoNSyhbg"
      }
    }
  ]
}